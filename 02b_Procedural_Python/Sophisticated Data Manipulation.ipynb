{
 "cells": [
  {
   "cell_type": "markdown",
   "metadata": {},
   "source": [
    "# Software Engineering for Data Scientists\n",
    "\n",
    "## *Sophisticated Data Manipulation"
   ]
  },
  {
   "cell_type": "markdown",
   "metadata": {},
   "source": [
    "## 1. Python's Data Science Ecosystem\n",
    "\n",
    "With this simple Python computation experience under our belt, we can now move to doing some more interesting analysis."
   ]
  },
  {
   "cell_type": "markdown",
   "metadata": {},
   "source": [
    "### Python's Data Science Ecosystem\n",
    "\n",
    "In addition to Python's built-in modules like the ``math`` module we explored above, there are also many often-used third-party modules that are core tools for doing data science with Python.\n",
    "Some of the most important ones are:\n",
    "\n",
    "#### [``numpy``](http://numpy.org/): Numerical Python\n",
    "\n",
    "Numpy is short for \"Numerical Python\", and contains tools for efficient manipulation of arrays of data.\n",
    "If you have used other computational tools like IDL or MatLab, Numpy should feel very familiar.\n",
    "\n",
    "#### [``scipy``](http://scipy.org/): Scientific Python\n",
    "\n",
    "Scipy is short for \"Scientific Python\", and contains a wide range of functionality for accomplishing common scientific tasks, such as optimization/minimization, numerical integration, interpolation, and much more.\n",
    "We will not look closely at Scipy today, but we will use its functionality later in the course.\n",
    "\n",
    "#### [``pandas``](http://pandas.pydata.org/): Labeled Data Manipulation in Python\n",
    "\n",
    "Pandas is short for \"Panel Data\", and contains tools for doing more advanced manipulation of labeled data in Python, in particular with a columnar data structure called a *Data Frame*.\n",
    "If you've used the [R](http://rstats.org) statistical language (and in particular the so-called \"Hadley Stack\"), much of the functionality in Pandas should feel very familiar.\n",
    "\n",
    "#### [``matplotlib``](http://matplotlib.org): Visualization in Python\n",
    "\n",
    "Matplotlib started out as a Matlab plotting clone in Python, and has grown from there in the 15 years since its creation. It is the most popular data visualization tool currently in the Python data world (though other recent packages are starting to encroach on its monopoly)."
   ]
  },
  {
   "cell_type": "markdown",
   "metadata": {},
   "source": [
    "# 2. Installation"
   ]
  },
  {
   "cell_type": "markdown",
   "metadata": {},
   "source": [
    "### Installing Pandas & friends\n",
    "\n",
    "Because the above packages are not included in Python itself, you need to install them separately. While it is possible to install these from source (compiling the C and/or Fortran code that does the heavy lifting under the hood) it is much easier to use a package manager like ``conda``. All it takes is to run\n",
    "\n",
    "```\n",
    "$ conda install numpy scipy pandas matplotlib\n",
    "```\n",
    "\n",
    "and (so long as your conda setup is working) the packages will be downloaded and installed on your system."
   ]
  },
  {
   "cell_type": "markdown",
   "metadata": {},
   "source": [
    "# 3. Arrays and slicing in Numpy"
   ]
  },
  {
   "cell_type": "code",
   "execution_count": null,
   "metadata": {},
   "outputs": [],
   "source": [
    "import numpy as np"
   ]
  },
  {
   "cell_type": "markdown",
   "metadata": {},
   "source": [
    "### Lists in native Python\n",
    "\n",
    "Let's create a **list**, a native Python object that we've used earlier today."
   ]
  },
  {
   "cell_type": "code",
   "execution_count": null,
   "metadata": {},
   "outputs": [],
   "source": [
    "my_list = [2, 5, 7, 8]\n",
    "my_list"
   ]
  },
  {
   "cell_type": "code",
   "execution_count": null,
   "metadata": {},
   "outputs": [],
   "source": [
    "type(my_list)"
   ]
  },
  {
   "cell_type": "markdown",
   "metadata": {},
   "source": [
    "This list is one-dimensional, let's make it multidimensional!"
   ]
  },
  {
   "cell_type": "code",
   "execution_count": null,
   "metadata": {},
   "outputs": [],
   "source": [
    "multi_list = [[1, 2, 3], [4, 5, 6]]"
   ]
  },
  {
   "cell_type": "markdown",
   "metadata": {},
   "source": [
    "How do we access the *6* element in the second row, third column for native Python list?"
   ]
  },
  {
   "cell_type": "code",
   "execution_count": null,
   "metadata": {},
   "outputs": [],
   "source": [
    "#"
   ]
  },
  {
   "cell_type": "markdown",
   "metadata": {},
   "source": [
    "### Converting to numpy Arrays"
   ]
  },
  {
   "cell_type": "code",
   "execution_count": null,
   "metadata": {},
   "outputs": [],
   "source": [
    "my_array = np.array(my_list)"
   ]
  },
  {
   "cell_type": "code",
   "execution_count": null,
   "metadata": {},
   "outputs": [],
   "source": [
    "type(my_array)"
   ]
  },
  {
   "cell_type": "code",
   "execution_count": null,
   "metadata": {},
   "outputs": [],
   "source": [
    "my_array.dtype"
   ]
  },
  {
   "cell_type": "code",
   "execution_count": null,
   "metadata": {},
   "outputs": [],
   "source": [
    "multi_array.shape"
   ]
  },
  {
   "cell_type": "code",
   "execution_count": null,
   "metadata": {},
   "outputs": [],
   "source": [
    "multi_array = np.array([[1, 2, 3], [4, 5, 6]], np.int32)"
   ]
  },
  {
   "cell_type": "markdown",
   "metadata": {},
   "source": [
    "How do we access the *6* element in the second row, third column for numpy array?"
   ]
  },
  {
   "cell_type": "code",
   "execution_count": null,
   "metadata": {},
   "outputs": [],
   "source": [
    "#"
   ]
  },
  {
   "cell_type": "markdown",
   "metadata": {},
   "source": [
    "How do we retrieve a slice of the array, `array([[1, 2], [4, 5]])`?"
   ]
  },
  {
   "cell_type": "code",
   "execution_count": null,
   "metadata": {},
   "outputs": [],
   "source": [
    "#"
   ]
  },
  {
   "cell_type": "markdown",
   "metadata": {},
   "source": [
    "How do we retrieve the second column of the array?"
   ]
  },
  {
   "cell_type": "code",
   "execution_count": null,
   "metadata": {},
   "outputs": [],
   "source": [
    "#"
   ]
  },
  {
   "cell_type": "markdown",
   "metadata": {},
   "source": [
    "## 4. Introduction to Pandas DataFrames"
   ]
  },
  {
   "cell_type": "markdown",
   "metadata": {},
   "source": [
    "What are the elements of a table?"
   ]
  },
  {
   "cell_type": "code",
   "execution_count": null,
   "metadata": {},
   "outputs": [],
   "source": [
    "# Pandas DataFrames as table elements\n",
    "import pandas as pd"
   ]
  },
  {
   "cell_type": "markdown",
   "metadata": {},
   "source": [
    "What operations do we perform on tables?"
   ]
  },
  {
   "cell_type": "code",
   "execution_count": null,
   "metadata": {},
   "outputs": [],
   "source": [
    "df = pd.DataFrame({'A': [1,2,3], 'B': [2, 4, 6], 'ccc': [1.0, 33, 4]})\n",
    "df          "
   ]
  },
  {
   "cell_type": "code",
   "execution_count": null,
   "metadata": {},
   "outputs": [],
   "source": [
    "sub_df = df[['A', 'ccc']]\n",
    "sub_df"
   ]
  },
  {
   "cell_type": "code",
   "execution_count": null,
   "metadata": {},
   "outputs": [],
   "source": [
    "df['A'] + 2*df['B']"
   ]
  },
  {
   "cell_type": "markdown",
   "metadata": {},
   "source": [
    "# Operations on a Pandas DataFrame"
   ]
  },
  {
   "cell_type": "markdown",
   "metadata": {},
   "source": [
    "## 5. Manipulating Data with DataFrames"
   ]
  },
  {
   "cell_type": "markdown",
   "metadata": {},
   "source": [
    "### Downloading the data\n",
    "\n",
    "Shell commands can be run from the notebook by preceding them with an exclamation point:"
   ]
  },
  {
   "cell_type": "code",
   "execution_count": null,
   "metadata": {},
   "outputs": [],
   "source": [
    "!ls"
   ]
  },
  {
   "cell_type": "markdown",
   "metadata": {},
   "source": [
    "uncomment this to download the data:"
   ]
  },
  {
   "cell_type": "code",
   "execution_count": 1,
   "metadata": {},
   "outputs": [
    {
     "name": "stdout",
     "output_type": "stream",
     "text": [
      "  % Total    % Received % Xferd  Average Speed   Time    Time     Time  Current\n",
      "                                 Dload  Upload   Total   Spent    Left  Speed\n",
      "100 42.7M    0 42.7M    0     0   657k      0 --:--:--  0:01:06 --:--:-- 1135k00:15 --:--:--  464k --:--:--  0:00:33 --:--:--  604k   0 --:--:--  0:00:39 --:--:--  767k96k      0 --:--:--  0:00:54 --:--:--  612k --:--:--  0:01:02 --:--:--  838k\n"
     ]
    }
   ],
   "source": [
    "!curl -o pronto.csv https://data.seattle.gov/api/views/tw7j-dfaw/rows.csv?accessType=DOWNLOAD"
   ]
  },
  {
   "cell_type": "markdown",
   "metadata": {},
   "source": [
    "### Loading Data into a DataFrame"
   ]
  },
  {
   "cell_type": "markdown",
   "metadata": {},
   "source": [
    "Because we'll use it so much, we often import under a shortened name using the ``import ... as ...`` pattern:"
   ]
  },
  {
   "cell_type": "code",
   "execution_count": 2,
   "metadata": {},
   "outputs": [],
   "source": [
    "import pandas as pd\n",
    "df = pd.read_csv('pronto.csv')"
   ]
  },
  {
   "cell_type": "code",
   "execution_count": 3,
   "metadata": {},
   "outputs": [
    {
     "data": {
      "text/plain": [
       "pandas.core.frame.DataFrame"
      ]
     },
     "execution_count": 3,
     "metadata": {},
     "output_type": "execute_result"
    }
   ],
   "source": [
    "type(df)"
   ]
  },
  {
   "cell_type": "code",
   "execution_count": 4,
   "metadata": {},
   "outputs": [
    {
     "data": {
      "text/plain": [
       "275091"
      ]
     },
     "execution_count": 4,
     "metadata": {},
     "output_type": "execute_result"
    }
   ],
   "source": [
    "len(df)"
   ]
  },
  {
   "cell_type": "markdown",
   "metadata": {},
   "source": [
    "Now we can use the ``read_csv`` command to read the comma-separated-value data:"
   ]
  },
  {
   "cell_type": "markdown",
   "metadata": {},
   "source": [
    "*Note: strings in Python can be defined either with double quotes or single quotes*"
   ]
  },
  {
   "cell_type": "markdown",
   "metadata": {},
   "source": [
    "### Viewing Pandas Dataframes"
   ]
  },
  {
   "cell_type": "markdown",
   "metadata": {},
   "source": [
    "The ``head()`` and ``tail()`` methods show us the first and last rows of the data"
   ]
  },
  {
   "cell_type": "code",
   "execution_count": 5,
   "metadata": {},
   "outputs": [
    {
     "data": {
      "text/html": [
       "<div>\n",
       "<style scoped>\n",
       "    .dataframe tbody tr th:only-of-type {\n",
       "        vertical-align: middle;\n",
       "    }\n",
       "\n",
       "    .dataframe tbody tr th {\n",
       "        vertical-align: top;\n",
       "    }\n",
       "\n",
       "    .dataframe thead th {\n",
       "        text-align: right;\n",
       "    }\n",
       "</style>\n",
       "<table border=\"1\" class=\"dataframe\">\n",
       "  <thead>\n",
       "    <tr style=\"text-align: right;\">\n",
       "      <th></th>\n",
       "      <th>trip_id</th>\n",
       "      <th>starttime</th>\n",
       "      <th>stoptime</th>\n",
       "      <th>bikeid</th>\n",
       "      <th>tripduration</th>\n",
       "      <th>from_station_name</th>\n",
       "      <th>to_station_name</th>\n",
       "      <th>from_station_id</th>\n",
       "      <th>to_station_id</th>\n",
       "      <th>usertype</th>\n",
       "      <th>gender</th>\n",
       "      <th>birthyear</th>\n",
       "    </tr>\n",
       "  </thead>\n",
       "  <tbody>\n",
       "    <tr>\n",
       "      <th>0</th>\n",
       "      <td>431</td>\n",
       "      <td>10/13/2014 10:31:00 AM</td>\n",
       "      <td>10/13/2014 10:48:00 AM</td>\n",
       "      <td>SEA00298</td>\n",
       "      <td>985.935</td>\n",
       "      <td>2nd Ave &amp; Spring St</td>\n",
       "      <td>Occidental Park / Occidental Ave S &amp; S Washing...</td>\n",
       "      <td>CBD-06</td>\n",
       "      <td>PS-04</td>\n",
       "      <td>Member</td>\n",
       "      <td>Male</td>\n",
       "      <td>1960.0</td>\n",
       "    </tr>\n",
       "    <tr>\n",
       "      <th>1</th>\n",
       "      <td>432</td>\n",
       "      <td>10/13/2014 10:32:00 AM</td>\n",
       "      <td>10/13/2014 10:48:00 AM</td>\n",
       "      <td>SEA00195</td>\n",
       "      <td>926.375</td>\n",
       "      <td>2nd Ave &amp; Spring St</td>\n",
       "      <td>Occidental Park / Occidental Ave S &amp; S Washing...</td>\n",
       "      <td>CBD-06</td>\n",
       "      <td>PS-04</td>\n",
       "      <td>Member</td>\n",
       "      <td>Male</td>\n",
       "      <td>1970.0</td>\n",
       "    </tr>\n",
       "    <tr>\n",
       "      <th>2</th>\n",
       "      <td>433</td>\n",
       "      <td>10/13/2014 10:33:00 AM</td>\n",
       "      <td>10/13/2014 10:48:00 AM</td>\n",
       "      <td>SEA00486</td>\n",
       "      <td>883.831</td>\n",
       "      <td>2nd Ave &amp; Spring St</td>\n",
       "      <td>Occidental Park / Occidental Ave S &amp; S Washing...</td>\n",
       "      <td>CBD-06</td>\n",
       "      <td>PS-04</td>\n",
       "      <td>Member</td>\n",
       "      <td>Female</td>\n",
       "      <td>1988.0</td>\n",
       "    </tr>\n",
       "    <tr>\n",
       "      <th>3</th>\n",
       "      <td>434</td>\n",
       "      <td>10/13/2014 10:34:00 AM</td>\n",
       "      <td>10/13/2014 10:48:00 AM</td>\n",
       "      <td>SEA00333</td>\n",
       "      <td>865.937</td>\n",
       "      <td>2nd Ave &amp; Spring St</td>\n",
       "      <td>Occidental Park / Occidental Ave S &amp; S Washing...</td>\n",
       "      <td>CBD-06</td>\n",
       "      <td>PS-04</td>\n",
       "      <td>Member</td>\n",
       "      <td>Female</td>\n",
       "      <td>1977.0</td>\n",
       "    </tr>\n",
       "    <tr>\n",
       "      <th>4</th>\n",
       "      <td>435</td>\n",
       "      <td>10/13/2014 10:34:00 AM</td>\n",
       "      <td>10/13/2014 10:49:00 AM</td>\n",
       "      <td>SEA00202</td>\n",
       "      <td>923.923</td>\n",
       "      <td>2nd Ave &amp; Spring St</td>\n",
       "      <td>Occidental Park / Occidental Ave S &amp; S Washing...</td>\n",
       "      <td>CBD-06</td>\n",
       "      <td>PS-04</td>\n",
       "      <td>Member</td>\n",
       "      <td>Male</td>\n",
       "      <td>1971.0</td>\n",
       "    </tr>\n",
       "  </tbody>\n",
       "</table>\n",
       "</div>"
      ],
      "text/plain": [
       "   trip_id               starttime                stoptime    bikeid  \\\n",
       "0      431  10/13/2014 10:31:00 AM  10/13/2014 10:48:00 AM  SEA00298   \n",
       "1      432  10/13/2014 10:32:00 AM  10/13/2014 10:48:00 AM  SEA00195   \n",
       "2      433  10/13/2014 10:33:00 AM  10/13/2014 10:48:00 AM  SEA00486   \n",
       "3      434  10/13/2014 10:34:00 AM  10/13/2014 10:48:00 AM  SEA00333   \n",
       "4      435  10/13/2014 10:34:00 AM  10/13/2014 10:49:00 AM  SEA00202   \n",
       "\n",
       "   tripduration    from_station_name  \\\n",
       "0       985.935  2nd Ave & Spring St   \n",
       "1       926.375  2nd Ave & Spring St   \n",
       "2       883.831  2nd Ave & Spring St   \n",
       "3       865.937  2nd Ave & Spring St   \n",
       "4       923.923  2nd Ave & Spring St   \n",
       "\n",
       "                                     to_station_name from_station_id  \\\n",
       "0  Occidental Park / Occidental Ave S & S Washing...          CBD-06   \n",
       "1  Occidental Park / Occidental Ave S & S Washing...          CBD-06   \n",
       "2  Occidental Park / Occidental Ave S & S Washing...          CBD-06   \n",
       "3  Occidental Park / Occidental Ave S & S Washing...          CBD-06   \n",
       "4  Occidental Park / Occidental Ave S & S Washing...          CBD-06   \n",
       "\n",
       "  to_station_id usertype  gender  birthyear  \n",
       "0         PS-04   Member    Male     1960.0  \n",
       "1         PS-04   Member    Male     1970.0  \n",
       "2         PS-04   Member  Female     1988.0  \n",
       "3         PS-04   Member  Female     1977.0  \n",
       "4         PS-04   Member    Male     1971.0  "
      ]
     },
     "execution_count": 5,
     "metadata": {},
     "output_type": "execute_result"
    }
   ],
   "source": [
    "df.head()"
   ]
  },
  {
   "cell_type": "code",
   "execution_count": 6,
   "metadata": {},
   "outputs": [
    {
     "data": {
      "text/plain": [
       "Index(['trip_id', 'starttime', 'stoptime', 'bikeid', 'tripduration',\n",
       "       'from_station_name', 'to_station_name', 'from_station_id',\n",
       "       'to_station_id', 'usertype', 'gender', 'birthyear'],\n",
       "      dtype='object')"
      ]
     },
     "execution_count": 6,
     "metadata": {},
     "output_type": "execute_result"
    }
   ],
   "source": [
    "df.columns"
   ]
  },
  {
   "cell_type": "code",
   "execution_count": 7,
   "metadata": {},
   "outputs": [
    {
     "data": {
      "text/plain": [
       "RangeIndex(start=0, stop=275091, step=1)"
      ]
     },
     "execution_count": 7,
     "metadata": {},
     "output_type": "execute_result"
    }
   ],
   "source": [
    "df.index"
   ]
  },
  {
   "cell_type": "code",
   "execution_count": 8,
   "metadata": {},
   "outputs": [],
   "source": [
    "smaller_df = df.loc[[1,4,6,7,9,34],:]\n"
   ]
  },
  {
   "cell_type": "code",
   "execution_count": 9,
   "metadata": {},
   "outputs": [
    {
     "data": {
      "text/plain": [
       "Int64Index([1, 4, 6, 7, 9, 34], dtype='int64')"
      ]
     },
     "execution_count": 9,
     "metadata": {},
     "output_type": "execute_result"
    }
   ],
   "source": [
    "smaller_df.index"
   ]
  },
  {
   "cell_type": "markdown",
   "metadata": {},
   "source": [
    "The ``shape`` attribute shows us the number of elements:"
   ]
  },
  {
   "cell_type": "code",
   "execution_count": 10,
   "metadata": {},
   "outputs": [
    {
     "data": {
      "text/plain": [
       "(275091, 12)"
      ]
     },
     "execution_count": 10,
     "metadata": {},
     "output_type": "execute_result"
    }
   ],
   "source": [
    "df.shape"
   ]
  },
  {
   "cell_type": "markdown",
   "metadata": {},
   "source": [
    "The ``columns`` attribute gives us the column names"
   ]
  },
  {
   "cell_type": "markdown",
   "metadata": {},
   "source": [
    "The ``index`` attribute gives us the index names"
   ]
  },
  {
   "cell_type": "markdown",
   "metadata": {},
   "source": [
    "The ``dtypes`` attribute gives the data types of each column:"
   ]
  },
  {
   "cell_type": "code",
   "execution_count": 11,
   "metadata": {},
   "outputs": [
    {
     "data": {
      "text/plain": [
       "trip_id                int64\n",
       "starttime             object\n",
       "stoptime              object\n",
       "bikeid                object\n",
       "tripduration         float64\n",
       "from_station_name     object\n",
       "to_station_name       object\n",
       "from_station_id       object\n",
       "to_station_id         object\n",
       "usertype              object\n",
       "gender                object\n",
       "birthyear            float64\n",
       "dtype: object"
      ]
     },
     "execution_count": 11,
     "metadata": {},
     "output_type": "execute_result"
    }
   ],
   "source": [
    "df.dtypes"
   ]
  },
  {
   "cell_type": "markdown",
   "metadata": {},
   "source": [
    "### Sophisticated Data Manipulation\n",
    "\n",
    "Here we'll cover some key features of manipulating data with pandas"
   ]
  },
  {
   "cell_type": "markdown",
   "metadata": {},
   "source": [
    "Access columns by name using square-bracket indexing:"
   ]
  },
  {
   "cell_type": "code",
   "execution_count": 12,
   "metadata": {},
   "outputs": [],
   "source": [
    "df_small = df['stoptime']"
   ]
  },
  {
   "cell_type": "code",
   "execution_count": 13,
   "metadata": {},
   "outputs": [
    {
     "data": {
      "text/plain": [
       "pandas.core.series.Series"
      ]
     },
     "execution_count": 13,
     "metadata": {},
     "output_type": "execute_result"
    }
   ],
   "source": [
    "type(df_small)"
   ]
  },
  {
   "cell_type": "code",
   "execution_count": 14,
   "metadata": {},
   "outputs": [
    {
     "data": {
      "text/plain": [
       "['10/13/2014 10:48:00 AM',\n",
       " '10/13/2014 10:48:00 AM',\n",
       " '10/13/2014 10:48:00 AM',\n",
       " '10/13/2014 10:48:00 AM',\n",
       " '10/13/2014 10:49:00 AM',\n",
       " '10/13/2014 10:47:00 AM',\n",
       " '10/13/2014 11:45:00 AM',\n",
       " '10/13/2014 11:45:00 AM',\n",
       " '10/13/2014 11:45:00 AM',\n",
       " '10/13/2014 11:45:00 AM',\n",
       " '10/13/2014 11:45:00 AM',\n",
       " '10/13/2014 11:47:00 AM',\n",
       " '10/13/2014 11:47:00 AM',\n",
       " '10/13/2014 11:47:00 AM',\n",
       " '10/13/2014 11:47:00 AM',\n",
       " '10/13/2014 11:47:00 AM',\n",
       " '10/13/2014 11:47:00 AM',\n",
       " '10/13/2014 11:47:00 AM',\n",
       " '10/13/2014 11:49:00 AM',\n",
       " '10/13/2014 11:51:00 AM',\n",
       " '10/13/2014 11:51:00 AM',\n",
       " '10/13/2014 11:51:00 AM',\n",
       " '10/13/2014 11:49:00 AM',\n",
       " '10/13/2014 11:51:00 AM',\n",
       " '10/13/2014 11:51:00 AM',\n",
       " '10/13/2014 11:52:00 AM',\n",
       " '10/13/2014 11:51:00 AM',\n",
       " '10/13/2014 11:51:00 AM',\n",
       " '10/13/2014 11:51:00 AM',\n",
       " '10/13/2014 11:55:00 AM',\n",
       " '10/13/2014 12:00:00 PM',\n",
       " '10/13/2014 12:00:00 PM',\n",
       " '10/13/2014 12:00:00 PM',\n",
       " '10/13/2014 12:02:00 PM',\n",
       " '10/13/2014 12:00:00 PM',\n",
       " '10/13/2014 12:00:00 PM',\n",
       " '10/13/2014 11:51:00 AM',\n",
       " '10/13/2014 11:59:00 AM',\n",
       " '10/13/2014 12:00:00 PM',\n",
       " '10/13/2014 11:59:00 AM',\n",
       " '10/13/2014 11:59:00 AM',\n",
       " '10/13/2014 11:59:00 AM',\n",
       " '10/13/2014 12:06:00 PM',\n",
       " '10/13/2014 12:01:00 PM',\n",
       " '10/13/2014 12:04:00 PM',\n",
       " '10/13/2014 12:01:00 PM',\n",
       " '10/13/2014 12:11:00 PM',\n",
       " '10/13/2014 12:11:00 PM',\n",
       " '10/13/2014 12:04:00 PM',\n",
       " '10/13/2014 12:01:00 PM',\n",
       " '10/13/2014 12:04:00 PM',\n",
       " '10/13/2014 12:05:00 PM',\n",
       " '10/13/2014 12:04:00 PM',\n",
       " '10/13/2014 11:55:00 AM',\n",
       " '10/13/2014 12:02:00 PM',\n",
       " '10/13/2014 12:39:00 PM',\n",
       " '10/13/2014 12:39:00 PM',\n",
       " '10/13/2014 12:05:00 PM',\n",
       " '10/13/2014 12:39:00 PM',\n",
       " '10/13/2014 12:19:00 PM',\n",
       " '10/13/2014 12:40:00 PM',\n",
       " '10/13/2014 12:20:00 PM',\n",
       " '10/13/2014 02:28:00 PM',\n",
       " '10/13/2014 12:10:00 PM',\n",
       " '10/13/2014 12:13:00 PM',\n",
       " '10/13/2014 12:13:00 PM',\n",
       " '10/13/2014 12:16:00 PM',\n",
       " '10/13/2014 12:45:00 PM',\n",
       " '10/13/2014 07:07:00 PM',\n",
       " '10/13/2014 12:16:00 PM',\n",
       " '10/13/2014 12:25:00 PM',\n",
       " '10/13/2014 12:20:00 PM',\n",
       " '10/13/2014 12:31:00 PM',\n",
       " '10/13/2014 12:31:00 PM',\n",
       " '10/13/2014 12:31:00 PM',\n",
       " '10/13/2014 12:22:00 PM',\n",
       " '10/13/2014 12:21:00 PM',\n",
       " '10/13/2014 12:34:00 PM',\n",
       " '10/13/2014 12:31:00 PM',\n",
       " '10/13/2014 12:26:00 PM',\n",
       " '10/13/2014 12:32:00 PM',\n",
       " '10/13/2014 12:57:00 PM',\n",
       " '10/13/2014 12:57:00 PM',\n",
       " '10/13/2014 01:21:00 PM',\n",
       " '10/13/2014 12:36:00 PM',\n",
       " '10/13/2014 12:40:00 PM',\n",
       " '10/13/2014 12:40:00 PM',\n",
       " '10/13/2014 12:47:00 PM',\n",
       " '10/13/2014 12:46:00 PM',\n",
       " '10/13/2014 12:45:00 PM',\n",
       " '10/13/2014 12:48:00 PM',\n",
       " '10/13/2014 12:47:00 PM',\n",
       " '10/13/2014 12:51:00 PM',\n",
       " '10/13/2014 12:58:00 PM',\n",
       " '10/13/2014 12:52:00 PM',\n",
       " '10/13/2014 12:58:00 PM',\n",
       " '10/13/2014 12:59:00 PM',\n",
       " '10/13/2014 01:15:00 PM',\n",
       " '10/13/2014 01:04:00 PM',\n",
       " '10/13/2014 01:18:00 PM',\n",
       " '10/13/2014 01:16:00 PM',\n",
       " '10/13/2014 01:13:00 PM',\n",
       " '10/13/2014 01:10:00 PM',\n",
       " '10/13/2014 01:12:00 PM',\n",
       " '10/13/2014 01:16:00 PM',\n",
       " '10/13/2014 01:14:00 PM',\n",
       " '10/13/2014 01:30:00 PM',\n",
       " '10/13/2014 01:22:00 PM',\n",
       " '10/13/2014 01:22:00 PM',\n",
       " '10/13/2014 01:15:00 PM',\n",
       " '10/13/2014 01:09:00 PM',\n",
       " '10/13/2014 01:18:00 PM',\n",
       " '10/13/2014 01:27:00 PM',\n",
       " '10/13/2014 01:24:00 PM',\n",
       " '10/13/2014 01:30:00 PM',\n",
       " '10/13/2014 01:33:00 PM',\n",
       " '10/13/2014 01:33:00 PM',\n",
       " '10/13/2014 01:33:00 PM',\n",
       " '10/13/2014 01:42:00 PM',\n",
       " '10/13/2014 01:42:00 PM',\n",
       " '10/13/2014 01:42:00 PM',\n",
       " '10/13/2014 12:47:00 PM',\n",
       " '10/13/2014 12:49:00 PM',\n",
       " '10/13/2014 01:44:00 PM',\n",
       " '10/13/2014 02:29:00 PM',\n",
       " '10/13/2014 01:52:00 PM',\n",
       " '10/13/2014 02:22:00 PM',\n",
       " '10/13/2014 01:45:00 PM',\n",
       " '10/13/2014 01:55:00 PM',\n",
       " '10/13/2014 01:56:00 PM',\n",
       " '10/13/2014 02:03:00 PM',\n",
       " '10/13/2014 01:52:00 PM',\n",
       " '10/13/2014 02:09:00 PM',\n",
       " '10/13/2014 02:09:00 PM',\n",
       " '10/13/2014 01:49:00 PM',\n",
       " '10/13/2014 02:09:00 PM',\n",
       " '10/13/2014 01:56:00 PM',\n",
       " '10/13/2014 01:59:00 PM',\n",
       " '10/13/2014 02:08:00 PM',\n",
       " '10/13/2014 02:05:00 PM',\n",
       " '10/13/2014 02:12:00 PM',\n",
       " '10/13/2014 02:07:00 PM',\n",
       " '10/13/2014 02:35:00 PM',\n",
       " '10/13/2014 02:35:00 PM',\n",
       " '10/13/2014 02:07:00 PM',\n",
       " '10/13/2014 02:11:00 PM',\n",
       " '10/13/2014 02:12:00 PM',\n",
       " '10/13/2014 02:35:00 PM',\n",
       " '10/13/2014 02:18:00 PM',\n",
       " '10/13/2014 02:18:00 PM',\n",
       " '10/13/2014 02:18:00 PM',\n",
       " '10/13/2014 02:18:00 PM',\n",
       " '10/13/2014 02:39:00 PM',\n",
       " '10/13/2014 02:39:00 PM',\n",
       " '10/13/2014 02:16:00 PM',\n",
       " '10/13/2014 02:39:00 PM',\n",
       " '10/13/2014 02:39:00 PM',\n",
       " '10/13/2014 03:08:00 PM',\n",
       " '10/13/2014 02:38:00 PM',\n",
       " '10/13/2014 02:38:00 PM',\n",
       " '10/13/2014 02:20:00 PM',\n",
       " '10/13/2014 02:24:00 PM',\n",
       " '10/13/2014 02:38:00 PM',\n",
       " '10/13/2014 02:26:00 PM',\n",
       " '10/13/2014 02:34:00 PM',\n",
       " '10/13/2014 02:34:00 PM',\n",
       " '10/13/2014 02:31:00 PM',\n",
       " '10/13/2014 02:26:00 PM',\n",
       " '10/13/2014 02:29:00 PM',\n",
       " '10/13/2014 02:48:00 PM',\n",
       " '10/13/2014 02:48:00 PM',\n",
       " '10/13/2014 02:51:00 PM',\n",
       " '10/13/2014 02:37:00 PM',\n",
       " '10/13/2014 02:33:00 PM',\n",
       " '10/13/2014 02:34:00 PM',\n",
       " '10/13/2014 02:31:00 PM',\n",
       " '10/13/2014 02:30:00 PM',\n",
       " '10/13/2014 02:49:00 PM',\n",
       " '10/13/2014 02:40:00 PM',\n",
       " '10/13/2014 02:56:00 PM',\n",
       " '10/13/2014 02:56:00 PM',\n",
       " '10/13/2014 02:39:00 PM',\n",
       " '10/13/2014 02:49:00 PM',\n",
       " '10/13/2014 02:56:00 PM',\n",
       " '10/13/2014 02:55:00 PM',\n",
       " '10/13/2014 02:56:00 PM',\n",
       " '10/13/2014 02:56:00 PM',\n",
       " '10/13/2014 03:01:00 PM',\n",
       " '10/13/2014 02:54:00 PM',\n",
       " '10/13/2014 02:56:00 PM',\n",
       " '10/13/2014 02:56:00 PM',\n",
       " '10/13/2014 03:09:00 PM',\n",
       " '10/13/2014 03:10:00 PM',\n",
       " '10/13/2014 05:59:00 PM',\n",
       " '10/13/2014 03:02:00 PM',\n",
       " '10/13/2014 03:13:00 PM',\n",
       " '10/13/2014 03:10:00 PM',\n",
       " '10/13/2014 03:16:00 PM',\n",
       " '10/13/2014 03:11:00 PM',\n",
       " '10/13/2014 03:11:00 PM',\n",
       " '10/13/2014 03:23:00 PM',\n",
       " '10/13/2014 03:23:00 PM',\n",
       " '10/13/2014 03:25:00 PM',\n",
       " '10/13/2014 03:53:00 PM',\n",
       " '10/13/2014 03:47:00 PM',\n",
       " '10/13/2014 03:20:00 PM',\n",
       " '10/13/2014 03:53:00 PM',\n",
       " '10/13/2014 03:57:00 PM',\n",
       " '10/13/2014 05:16:00 PM',\n",
       " '10/13/2014 03:27:00 PM',\n",
       " '10/13/2014 03:36:00 PM',\n",
       " '10/13/2014 03:50:00 PM',\n",
       " '10/13/2014 03:48:00 PM',\n",
       " '10/13/2014 03:37:00 PM',\n",
       " '10/13/2014 03:47:00 PM',\n",
       " '10/13/2014 03:48:00 PM',\n",
       " '10/13/2014 03:48:00 PM',\n",
       " '10/13/2014 03:57:00 PM',\n",
       " '10/13/2014 03:59:00 PM',\n",
       " '10/13/2014 04:05:00 PM',\n",
       " '10/13/2014 04:08:00 PM',\n",
       " '10/13/2014 04:07:00 PM',\n",
       " '10/13/2014 03:57:00 PM',\n",
       " '10/13/2014 04:00:00 PM',\n",
       " '10/13/2014 04:16:00 PM',\n",
       " '10/13/2014 05:08:00 PM',\n",
       " '10/13/2014 04:22:00 PM',\n",
       " '10/13/2014 04:10:00 PM',\n",
       " '10/13/2014 04:10:00 PM',\n",
       " '10/13/2014 04:05:00 PM',\n",
       " '10/13/2014 04:05:00 PM',\n",
       " '10/13/2014 04:13:00 PM',\n",
       " '10/13/2014 04:20:00 PM',\n",
       " '10/13/2014 04:10:00 PM',\n",
       " '10/13/2014 04:15:00 PM',\n",
       " '10/13/2014 04:15:00 PM',\n",
       " '10/13/2014 04:30:00 PM',\n",
       " '10/13/2014 04:19:00 PM',\n",
       " '10/13/2014 04:28:00 PM',\n",
       " '10/13/2014 04:24:00 PM',\n",
       " '10/13/2014 04:47:00 PM',\n",
       " '10/13/2014 04:46:00 PM',\n",
       " '10/13/2014 04:22:00 PM',\n",
       " '10/13/2014 04:24:00 PM',\n",
       " '10/13/2014 04:22:00 PM',\n",
       " '10/13/2014 04:42:00 PM',\n",
       " '10/13/2014 04:37:00 PM',\n",
       " '10/13/2014 04:37:00 PM',\n",
       " '10/13/2014 04:47:00 PM',\n",
       " '10/13/2014 04:32:00 PM',\n",
       " '10/13/2014 04:47:00 PM',\n",
       " '10/13/2014 04:48:00 PM',\n",
       " '10/13/2014 04:40:00 PM',\n",
       " '10/13/2014 04:33:00 PM',\n",
       " '10/13/2014 04:33:00 PM',\n",
       " '10/13/2014 04:39:00 PM',\n",
       " '10/13/2014 04:42:00 PM',\n",
       " '10/13/2014 04:51:00 PM',\n",
       " '10/13/2014 04:51:00 PM',\n",
       " '10/13/2014 04:45:00 PM',\n",
       " '10/13/2014 04:48:00 PM',\n",
       " '10/13/2014 04:50:00 PM',\n",
       " '10/13/2014 04:58:00 PM',\n",
       " '10/13/2014 05:11:00 PM',\n",
       " '10/13/2014 05:14:00 PM',\n",
       " '10/13/2014 04:54:00 PM',\n",
       " '10/13/2014 05:14:00 PM',\n",
       " '10/13/2014 05:14:00 PM',\n",
       " '10/13/2014 05:03:00 PM',\n",
       " '10/13/2014 05:07:00 PM',\n",
       " '10/13/2014 05:14:00 PM',\n",
       " '10/13/2014 05:19:00 PM',\n",
       " '10/13/2014 05:01:00 PM',\n",
       " '10/13/2014 05:12:00 PM',\n",
       " '10/13/2014 05:16:00 PM',\n",
       " '10/13/2014 05:10:00 PM',\n",
       " '10/13/2014 05:19:00 PM',\n",
       " '10/13/2014 05:20:00 PM',\n",
       " '10/13/2014 05:19:00 PM',\n",
       " '10/13/2014 05:19:00 PM',\n",
       " '10/13/2014 05:16:00 PM',\n",
       " '10/13/2014 05:07:00 PM',\n",
       " '10/13/2014 05:21:00 PM',\n",
       " '10/13/2014 05:20:00 PM',\n",
       " '10/13/2014 05:18:00 PM',\n",
       " '10/13/2014 05:20:00 PM',\n",
       " '10/13/2014 05:15:00 PM',\n",
       " '10/13/2014 05:15:00 PM',\n",
       " '10/13/2014 05:27:00 PM',\n",
       " '10/13/2014 05:20:00 PM',\n",
       " '10/13/2014 05:25:00 PM',\n",
       " '10/13/2014 05:23:00 PM',\n",
       " '10/13/2014 05:32:00 PM',\n",
       " '10/13/2014 05:31:00 PM',\n",
       " '10/13/2014 05:30:00 PM',\n",
       " '10/13/2014 05:39:00 PM',\n",
       " '10/13/2014 05:43:00 PM',\n",
       " '10/13/2014 05:52:00 PM',\n",
       " '10/13/2014 05:52:00 PM',\n",
       " '10/13/2014 05:32:00 PM',\n",
       " '10/13/2014 05:52:00 PM',\n",
       " '10/13/2014 06:09:00 PM',\n",
       " '10/13/2014 05:52:00 PM',\n",
       " '10/13/2014 05:53:00 PM',\n",
       " '10/13/2014 05:47:00 PM',\n",
       " '10/13/2014 05:47:00 PM',\n",
       " '10/13/2014 05:47:00 PM',\n",
       " '10/13/2014 05:48:00 PM',\n",
       " '10/13/2014 05:55:00 PM',\n",
       " '10/13/2014 05:58:00 PM',\n",
       " '10/13/2014 05:51:00 PM',\n",
       " '10/13/2014 05:44:00 PM',\n",
       " '10/13/2014 05:55:00 PM',\n",
       " '10/13/2014 05:49:00 PM',\n",
       " '10/13/2014 06:06:00 PM',\n",
       " '10/13/2014 05:52:00 PM',\n",
       " '10/13/2014 05:58:00 PM',\n",
       " '10/13/2014 05:49:00 PM',\n",
       " '10/13/2014 06:00:00 PM',\n",
       " '10/13/2014 06:02:00 PM',\n",
       " '10/13/2014 06:11:00 PM',\n",
       " '10/13/2014 06:01:00 PM',\n",
       " '10/13/2014 06:03:00 PM',\n",
       " '10/13/2014 06:18:00 PM',\n",
       " '10/13/2014 06:03:00 PM',\n",
       " '10/13/2014 07:28:00 PM',\n",
       " '10/13/2014 06:27:00 PM',\n",
       " '10/13/2014 06:27:00 PM',\n",
       " '10/13/2014 06:07:00 PM',\n",
       " '10/13/2014 06:28:00 PM',\n",
       " '10/13/2014 06:19:00 PM',\n",
       " '10/13/2014 06:27:00 PM',\n",
       " '10/13/2014 06:08:00 PM',\n",
       " '10/13/2014 06:15:00 PM',\n",
       " '10/13/2014 06:11:00 PM',\n",
       " '10/13/2014 06:16:00 PM',\n",
       " '10/13/2014 06:13:00 PM',\n",
       " '10/13/2014 06:13:00 PM',\n",
       " '10/13/2014 06:34:00 PM',\n",
       " '10/13/2014 06:19:00 PM',\n",
       " '10/13/2014 06:30:00 PM',\n",
       " '10/13/2014 06:35:00 PM',\n",
       " '10/13/2014 06:28:00 PM',\n",
       " '10/13/2014 06:31:00 PM',\n",
       " '10/13/2014 06:30:00 PM',\n",
       " '10/13/2014 06:43:00 PM',\n",
       " '10/13/2014 06:32:00 PM',\n",
       " '10/13/2014 06:44:00 PM',\n",
       " '10/13/2014 06:44:00 PM',\n",
       " '10/13/2014 06:33:00 PM',\n",
       " '10/13/2014 06:46:00 PM',\n",
       " '10/13/2014 06:46:00 PM',\n",
       " '10/13/2014 06:38:00 PM',\n",
       " '10/13/2014 06:46:00 PM',\n",
       " '10/13/2014 06:46:00 PM',\n",
       " '10/13/2014 06:38:00 PM',\n",
       " '10/13/2014 06:43:00 PM',\n",
       " '10/13/2014 06:43:00 PM',\n",
       " '10/13/2014 06:54:00 PM',\n",
       " '10/13/2014 06:49:00 PM',\n",
       " '10/13/2014 06:54:00 PM',\n",
       " '10/13/2014 07:10:00 PM',\n",
       " '10/13/2014 07:47:00 PM',\n",
       " '10/13/2014 07:48:00 PM',\n",
       " '10/13/2014 06:53:00 PM',\n",
       " '10/13/2014 07:05:00 PM',\n",
       " '10/13/2014 06:54:00 PM',\n",
       " '10/13/2014 07:05:00 PM',\n",
       " '10/13/2014 07:19:00 PM',\n",
       " '10/13/2014 07:47:00 PM',\n",
       " '10/13/2014 07:46:00 PM',\n",
       " '10/13/2014 07:39:00 PM',\n",
       " '10/13/2014 07:39:00 PM',\n",
       " '10/13/2014 07:47:00 PM',\n",
       " '10/13/2014 07:46:00 PM',\n",
       " '10/13/2014 07:56:00 PM',\n",
       " '10/13/2014 07:45:00 PM',\n",
       " '10/13/2014 08:12:00 PM',\n",
       " '10/13/2014 08:15:00 PM',\n",
       " '10/13/2014 08:14:00 PM',\n",
       " '10/13/2014 08:08:00 PM',\n",
       " '10/13/2014 08:22:00 PM',\n",
       " '10/13/2014 08:19:00 PM',\n",
       " '10/13/2014 08:28:00 PM',\n",
       " '10/13/2014 08:33:00 PM',\n",
       " '10/13/2014 09:24:00 PM',\n",
       " '10/13/2014 08:52:00 PM',\n",
       " '10/13/2014 08:38:00 PM',\n",
       " '10/13/2014 08:52:00 PM',\n",
       " '10/13/2014 08:57:00 PM',\n",
       " '10/13/2014 08:49:00 PM',\n",
       " '10/13/2014 09:18:00 PM',\n",
       " '10/13/2014 09:26:00 PM',\n",
       " '10/13/2014 09:11:00 PM',\n",
       " '10/13/2014 09:21:00 PM',\n",
       " '10/13/2014 09:20:00 PM',\n",
       " '10/13/2014 09:39:00 PM',\n",
       " '10/13/2014 09:28:00 PM',\n",
       " '10/13/2014 09:41:00 PM',\n",
       " '10/13/2014 09:54:00 PM',\n",
       " '10/13/2014 09:59:00 PM',\n",
       " '10/13/2014 09:57:00 PM',\n",
       " '10/13/2014 10:05:00 PM',\n",
       " '10/13/2014 10:08:00 PM',\n",
       " '10/13/2014 10:22:00 PM',\n",
       " '10/13/2014 10:32:00 PM',\n",
       " '10/13/2014 11:17:00 PM',\n",
       " '10/13/2014 11:15:00 PM',\n",
       " '10/14/2014 06:52:00 AM',\n",
       " '10/14/2014 05:57:00 AM',\n",
       " '10/14/2014 06:14:00 AM',\n",
       " '10/14/2014 06:36:00 AM',\n",
       " '10/14/2014 06:42:00 AM',\n",
       " '10/14/2014 06:50:00 AM',\n",
       " '10/14/2014 06:50:00 AM',\n",
       " '10/14/2014 07:21:00 AM',\n",
       " '10/14/2014 07:28:00 AM',\n",
       " '10/14/2014 07:29:00 AM',\n",
       " '10/14/2014 07:36:00 AM',\n",
       " '10/14/2014 07:34:00 AM',\n",
       " '10/14/2014 07:34:00 AM',\n",
       " '10/14/2014 07:39:00 AM',\n",
       " '10/14/2014 07:50:00 AM',\n",
       " '10/14/2014 07:50:00 AM',\n",
       " '10/14/2014 07:48:00 AM',\n",
       " '10/14/2014 07:45:00 AM',\n",
       " '10/14/2014 07:48:00 AM',\n",
       " '10/14/2014 07:58:00 AM',\n",
       " '10/14/2014 08:00:00 AM',\n",
       " '10/14/2014 07:50:00 AM',\n",
       " '10/14/2014 07:55:00 AM',\n",
       " '10/14/2014 08:05:00 AM',\n",
       " '10/14/2014 08:01:00 AM',\n",
       " '10/14/2014 08:18:00 AM',\n",
       " '10/14/2014 08:03:00 AM',\n",
       " '10/14/2014 08:14:00 AM',\n",
       " '10/14/2014 08:06:00 AM',\n",
       " '10/14/2014 08:06:00 AM',\n",
       " '10/14/2014 08:09:00 AM',\n",
       " '10/14/2014 08:12:00 AM',\n",
       " '10/14/2014 08:16:00 AM',\n",
       " '10/14/2014 08:11:00 AM',\n",
       " '10/14/2014 08:09:00 AM',\n",
       " '10/14/2014 08:14:00 AM',\n",
       " '10/14/2014 08:19:00 AM',\n",
       " '10/14/2014 08:37:00 AM',\n",
       " '10/14/2014 08:19:00 AM',\n",
       " '10/14/2014 10:11:00 AM',\n",
       " '10/14/2014 08:17:00 AM',\n",
       " '10/14/2014 08:29:00 AM',\n",
       " '10/14/2014 08:26:00 AM',\n",
       " '10/14/2014 08:30:00 AM',\n",
       " '10/14/2014 08:41:00 AM',\n",
       " '10/14/2014 08:31:00 AM',\n",
       " '10/14/2014 08:33:00 AM',\n",
       " '10/14/2014 08:33:00 AM',\n",
       " '10/14/2014 08:38:00 AM',\n",
       " '10/14/2014 08:44:00 AM',\n",
       " '10/14/2014 08:39:00 AM',\n",
       " '10/14/2014 08:54:00 AM',\n",
       " '10/14/2014 08:46:00 AM',\n",
       " '10/14/2014 08:45:00 AM',\n",
       " '10/14/2014 08:48:00 AM',\n",
       " '10/14/2014 09:00:00 AM',\n",
       " '10/14/2014 09:14:00 AM',\n",
       " '10/14/2014 08:50:00 AM',\n",
       " '10/14/2014 08:59:00 AM',\n",
       " '10/14/2014 08:54:00 AM',\n",
       " '10/14/2014 09:17:00 AM',\n",
       " '10/14/2014 09:26:00 AM',\n",
       " '10/14/2014 09:04:00 AM',\n",
       " '10/14/2014 09:02:00 AM',\n",
       " '10/14/2014 09:18:00 AM',\n",
       " '10/14/2014 09:10:00 AM',\n",
       " '10/14/2014 09:17:00 AM',\n",
       " '10/14/2014 01:20:00 PM',\n",
       " '10/14/2014 09:26:00 AM',\n",
       " '10/14/2014 09:20:00 AM',\n",
       " '10/14/2014 09:30:00 AM',\n",
       " '10/14/2014 09:37:00 AM',\n",
       " '10/14/2014 09:32:00 AM',\n",
       " '10/14/2014 09:38:00 AM',\n",
       " '10/14/2014 09:41:00 AM',\n",
       " '10/14/2014 09:40:00 AM',\n",
       " '10/14/2014 09:45:00 AM',\n",
       " '10/14/2014 09:40:00 AM',\n",
       " '10/14/2014 10:15:00 AM',\n",
       " '10/14/2014 10:15:00 AM',\n",
       " '10/14/2014 09:44:00 AM',\n",
       " '10/14/2014 09:54:00 AM',\n",
       " '10/14/2014 11:59:00 AM',\n",
       " '10/14/2014 09:54:00 AM',\n",
       " '10/14/2014 10:00:00 AM',\n",
       " '10/14/2014 10:10:00 AM',\n",
       " '10/14/2014 10:05:00 AM',\n",
       " '10/14/2014 10:01:00 AM',\n",
       " '10/14/2014 10:08:00 AM',\n",
       " '10/14/2014 10:09:00 AM',\n",
       " '10/14/2014 10:27:00 AM',\n",
       " '10/14/2014 10:08:00 AM',\n",
       " '10/14/2014 10:17:00 AM',\n",
       " '10/14/2014 10:10:00 AM',\n",
       " '10/14/2014 10:30:00 AM',\n",
       " '10/14/2014 10:30:00 AM',\n",
       " '10/14/2014 10:23:00 AM',\n",
       " '10/14/2014 10:24:00 AM',\n",
       " '10/14/2014 10:34:00 AM',\n",
       " '10/14/2014 10:53:00 AM',\n",
       " '10/14/2014 10:53:00 AM',\n",
       " '10/14/2014 10:51:00 AM',\n",
       " '10/14/2014 10:48:00 AM',\n",
       " '10/14/2014 10:53:00 AM',\n",
       " '10/14/2014 05:19:00 PM',\n",
       " '10/14/2014 11:01:00 AM',\n",
       " '10/14/2014 11:01:00 AM',\n",
       " '10/14/2014 11:07:00 AM',\n",
       " '10/14/2014 11:27:00 AM',\n",
       " '10/14/2014 11:25:00 AM',\n",
       " '10/14/2014 11:13:00 AM',\n",
       " '10/14/2014 11:13:00 AM',\n",
       " '10/14/2014 11:17:00 AM',\n",
       " '10/14/2014 11:18:00 AM',\n",
       " '10/14/2014 11:18:00 AM',\n",
       " '10/14/2014 11:20:00 AM',\n",
       " '10/14/2014 11:27:00 AM',\n",
       " '10/14/2014 11:27:00 AM',\n",
       " '10/14/2014 11:27:00 AM',\n",
       " '10/14/2014 11:32:00 AM',\n",
       " '10/14/2014 11:26:00 AM',\n",
       " '10/14/2014 11:35:00 AM',\n",
       " '10/14/2014 12:16:00 PM',\n",
       " '10/14/2014 12:16:00 PM',\n",
       " '10/14/2014 11:38:00 AM',\n",
       " '10/14/2014 11:43:00 AM',\n",
       " '10/14/2014 11:43:00 AM',\n",
       " '10/14/2014 11:43:00 AM',\n",
       " '10/14/2014 11:54:00 AM',\n",
       " '10/14/2014 11:54:00 AM',\n",
       " '10/14/2014 11:54:00 AM',\n",
       " '10/14/2014 11:54:00 AM',\n",
       " '10/14/2014 11:49:00 AM',\n",
       " '10/14/2014 11:55:00 AM',\n",
       " '10/14/2014 11:54:00 AM',\n",
       " '10/14/2014 11:57:00 AM',\n",
       " '10/14/2014 11:56:00 AM',\n",
       " '10/14/2014 12:02:00 PM',\n",
       " '10/14/2014 12:06:00 PM',\n",
       " '10/14/2014 11:56:00 AM',\n",
       " '10/14/2014 12:11:00 PM',\n",
       " '10/14/2014 02:11:00 PM',\n",
       " '10/14/2014 02:11:00 PM',\n",
       " '10/14/2014 12:11:00 PM',\n",
       " '10/14/2014 12:11:00 PM',\n",
       " '10/14/2014 11:58:00 AM',\n",
       " '10/14/2014 12:11:00 PM',\n",
       " '10/14/2014 12:00:00 PM',\n",
       " '10/14/2014 12:26:00 PM',\n",
       " '10/14/2014 12:13:00 PM',\n",
       " '10/14/2014 12:11:00 PM',\n",
       " '10/14/2014 12:11:00 PM',\n",
       " '10/14/2014 12:11:00 PM',\n",
       " '10/14/2014 12:10:00 PM',\n",
       " '10/14/2014 12:11:00 PM',\n",
       " '10/14/2014 12:17:00 PM',\n",
       " '10/14/2014 12:21:00 PM',\n",
       " '10/14/2014 12:54:00 PM',\n",
       " '10/14/2014 12:45:00 PM',\n",
       " '10/14/2014 01:17:00 PM',\n",
       " '10/14/2014 12:21:00 PM',\n",
       " '10/14/2014 12:26:00 PM',\n",
       " '10/14/2014 12:44:00 PM',\n",
       " '10/14/2014 12:29:00 PM',\n",
       " '10/14/2014 12:30:00 PM',\n",
       " '10/14/2014 12:29:00 PM',\n",
       " '10/14/2014 12:37:00 PM',\n",
       " '10/14/2014 12:54:00 PM',\n",
       " '10/14/2014 12:38:00 PM',\n",
       " '10/14/2014 12:54:00 PM',\n",
       " '10/14/2014 12:35:00 PM',\n",
       " '10/14/2014 12:41:00 PM',\n",
       " '10/14/2014 12:34:00 PM',\n",
       " '10/14/2014 12:46:00 PM',\n",
       " '10/14/2014 12:49:00 PM',\n",
       " '10/14/2014 01:09:00 PM',\n",
       " '10/14/2014 12:40:00 PM',\n",
       " '10/14/2014 12:44:00 PM',\n",
       " '10/14/2014 01:09:00 PM',\n",
       " '10/14/2014 12:52:00 PM',\n",
       " '10/14/2014 12:55:00 PM',\n",
       " '10/14/2014 12:58:00 PM',\n",
       " '10/14/2014 12:58:00 PM',\n",
       " '10/14/2014 12:55:00 PM',\n",
       " '10/14/2014 12:54:00 PM',\n",
       " '10/14/2014 12:58:00 PM',\n",
       " '10/14/2014 01:02:00 PM',\n",
       " '10/14/2014 01:01:00 PM',\n",
       " '10/14/2014 12:59:00 PM',\n",
       " '10/14/2014 12:59:00 PM',\n",
       " '10/14/2014 01:10:00 PM',\n",
       " '10/14/2014 01:11:00 PM',\n",
       " '10/14/2014 01:01:00 PM',\n",
       " '10/14/2014 01:10:00 PM',\n",
       " '10/14/2014 02:05:00 PM',\n",
       " '10/14/2014 01:09:00 PM',\n",
       " '10/14/2014 01:31:00 PM',\n",
       " '10/14/2014 01:22:00 PM',\n",
       " '10/14/2014 01:38:00 PM',\n",
       " '10/14/2014 01:10:00 PM',\n",
       " '10/14/2014 01:20:00 PM',\n",
       " '10/14/2014 01:10:00 PM',\n",
       " '10/14/2014 01:10:00 PM',\n",
       " '10/14/2014 01:16:00 PM',\n",
       " '10/14/2014 01:17:00 PM',\n",
       " '10/14/2014 01:19:00 PM',\n",
       " '10/14/2014 01:17:00 PM',\n",
       " '10/14/2014 01:27:00 PM',\n",
       " '10/14/2014 01:30:00 PM',\n",
       " '10/14/2014 01:29:00 PM',\n",
       " '10/14/2014 01:23:00 PM',\n",
       " '10/14/2014 01:26:00 PM',\n",
       " '10/14/2014 01:30:00 PM',\n",
       " '10/14/2014 01:30:00 PM',\n",
       " '10/14/2014 01:26:00 PM',\n",
       " '10/14/2014 01:26:00 PM',\n",
       " '10/14/2014 01:25:00 PM',\n",
       " '10/14/2014 01:30:00 PM',\n",
       " '10/14/2014 01:25:00 PM',\n",
       " '10/14/2014 01:38:00 PM',\n",
       " '10/14/2014 01:42:00 PM',\n",
       " '10/14/2014 01:33:00 PM',\n",
       " '10/14/2014 01:29:00 PM',\n",
       " '10/14/2014 01:39:00 PM',\n",
       " '10/14/2014 02:15:00 PM',\n",
       " '10/14/2014 01:43:00 PM',\n",
       " '10/14/2014 01:41:00 PM',\n",
       " '10/14/2014 01:40:00 PM',\n",
       " '10/14/2014 01:43:00 PM',\n",
       " '10/14/2014 01:43:00 PM',\n",
       " '10/14/2014 03:52:00 PM',\n",
       " '10/14/2014 01:42:00 PM',\n",
       " '10/14/2014 01:56:00 PM',\n",
       " '10/14/2014 01:53:00 PM',\n",
       " '10/14/2014 01:41:00 PM',\n",
       " '10/14/2014 01:53:00 PM',\n",
       " '10/14/2014 01:55:00 PM',\n",
       " '10/14/2014 01:51:00 PM',\n",
       " '10/14/2014 02:10:00 PM',\n",
       " '10/14/2014 01:43:00 PM',\n",
       " '10/14/2014 01:44:00 PM',\n",
       " '10/14/2014 01:54:00 PM',\n",
       " '10/14/2014 01:54:00 PM',\n",
       " '10/14/2014 01:56:00 PM',\n",
       " '10/14/2014 02:27:00 PM',\n",
       " '10/14/2014 02:09:00 PM',\n",
       " '10/14/2014 02:30:00 PM',\n",
       " '10/14/2014 02:29:00 PM',\n",
       " '10/14/2014 02:10:00 PM',\n",
       " '10/14/2014 02:38:00 PM',\n",
       " '10/14/2014 02:18:00 PM',\n",
       " '10/14/2014 02:38:00 PM',\n",
       " '10/14/2014 02:16:00 PM',\n",
       " '10/14/2014 02:22:00 PM',\n",
       " '10/14/2014 02:26:00 PM',\n",
       " '10/14/2014 02:32:00 PM',\n",
       " '10/14/2014 03:51:00 PM',\n",
       " '10/14/2014 02:22:00 PM',\n",
       " '10/14/2014 02:35:00 PM',\n",
       " '10/14/2014 02:40:00 PM',\n",
       " '10/14/2014 02:31:00 PM',\n",
       " '10/14/2014 02:36:00 PM',\n",
       " '10/14/2014 02:38:00 PM',\n",
       " '10/14/2014 02:52:00 PM',\n",
       " '10/14/2014 02:54:00 PM',\n",
       " '10/14/2014 02:52:00 PM',\n",
       " '10/14/2014 03:01:00 PM',\n",
       " '10/14/2014 03:00:00 PM',\n",
       " '10/14/2014 03:09:00 PM',\n",
       " '10/14/2014 03:09:00 PM',\n",
       " '10/14/2014 02:57:00 PM',\n",
       " '10/14/2014 02:57:00 PM',\n",
       " '10/14/2014 03:03:00 PM',\n",
       " '10/14/2014 03:06:00 PM',\n",
       " '10/14/2014 03:10:00 PM',\n",
       " '10/14/2014 03:17:00 PM',\n",
       " '10/14/2014 03:17:00 PM',\n",
       " '10/14/2014 03:20:00 PM',\n",
       " '10/14/2014 03:21:00 PM',\n",
       " '10/14/2014 03:32:00 PM',\n",
       " '10/14/2014 03:42:00 PM',\n",
       " '10/14/2014 03:42:00 PM',\n",
       " '10/14/2014 03:34:00 PM',\n",
       " '10/14/2014 03:46:00 PM',\n",
       " '10/14/2014 03:45:00 PM',\n",
       " '10/14/2014 03:47:00 PM',\n",
       " '10/14/2014 03:52:00 PM',\n",
       " '10/14/2014 03:46:00 PM',\n",
       " '10/14/2014 03:46:00 PM',\n",
       " '10/14/2014 03:48:00 PM',\n",
       " '10/14/2014 04:23:00 PM',\n",
       " '10/14/2014 03:49:00 PM',\n",
       " '10/14/2014 03:48:00 PM',\n",
       " '10/14/2014 06:41:00 PM',\n",
       " '10/14/2014 03:48:00 PM',\n",
       " '10/14/2014 04:50:00 PM',\n",
       " '10/14/2014 04:00:00 PM',\n",
       " '10/14/2014 04:25:00 PM',\n",
       " '10/14/2014 06:40:00 PM',\n",
       " '10/14/2014 04:24:00 PM',\n",
       " '10/14/2014 04:25:00 PM',\n",
       " '10/14/2014 04:00:00 PM',\n",
       " '10/14/2014 04:25:00 PM',\n",
       " '10/14/2014 04:25:00 PM',\n",
       " '10/14/2014 03:57:00 PM',\n",
       " '10/14/2014 04:09:00 PM',\n",
       " '10/14/2014 04:25:00 PM',\n",
       " '10/14/2014 04:21:00 PM',\n",
       " '10/14/2014 04:21:00 PM',\n",
       " '10/14/2014 04:27:00 PM',\n",
       " '10/14/2014 04:08:00 PM',\n",
       " '10/14/2014 04:14:00 PM',\n",
       " '10/14/2014 04:17:00 PM',\n",
       " '10/14/2014 04:16:00 PM',\n",
       " '10/14/2014 05:54:00 PM',\n",
       " '10/14/2014 04:20:00 PM',\n",
       " '10/14/2014 04:41:00 PM',\n",
       " '10/14/2014 04:41:00 PM',\n",
       " '10/14/2014 04:26:00 PM',\n",
       " '10/14/2014 04:47:00 PM',\n",
       " '10/14/2014 04:39:00 PM',\n",
       " '10/14/2014 04:49:00 PM',\n",
       " '10/14/2014 04:40:00 PM',\n",
       " '10/14/2014 04:43:00 PM',\n",
       " '10/14/2014 04:46:00 PM',\n",
       " '10/14/2014 04:51:00 PM',\n",
       " '10/14/2014 04:52:00 PM',\n",
       " '10/14/2014 04:50:00 PM',\n",
       " '10/14/2014 04:50:00 PM',\n",
       " '10/14/2014 05:07:00 PM',\n",
       " '10/14/2014 05:18:00 PM',\n",
       " '10/14/2014 05:04:00 PM',\n",
       " '10/14/2014 05:01:00 PM',\n",
       " '10/14/2014 05:03:00 PM',\n",
       " '10/14/2014 04:58:00 PM',\n",
       " '10/14/2014 05:09:00 PM',\n",
       " '10/14/2014 05:08:00 PM',\n",
       " '10/14/2014 05:12:00 PM',\n",
       " '10/14/2014 05:11:00 PM',\n",
       " '10/14/2014 05:13:00 PM',\n",
       " '10/14/2014 05:07:00 PM',\n",
       " '10/14/2014 05:14:00 PM',\n",
       " '10/14/2014 05:21:00 PM',\n",
       " '10/14/2014 05:56:00 PM',\n",
       " '10/14/2014 05:25:00 PM',\n",
       " '10/14/2014 05:24:00 PM',\n",
       " '10/14/2014 05:18:00 PM',\n",
       " '10/14/2014 05:33:00 PM',\n",
       " '10/14/2014 05:26:00 PM',\n",
       " '10/14/2014 05:22:00 PM',\n",
       " '10/14/2014 05:34:00 PM',\n",
       " '10/14/2014 05:32:00 PM',\n",
       " '10/14/2014 06:55:00 PM',\n",
       " '10/14/2014 05:29:00 PM',\n",
       " '10/14/2014 05:24:00 PM',\n",
       " '10/14/2014 05:32:00 PM',\n",
       " '10/14/2014 05:30:00 PM',\n",
       " '10/14/2014 05:42:00 PM',\n",
       " '10/14/2014 05:41:00 PM',\n",
       " '10/14/2014 05:36:00 PM',\n",
       " '10/14/2014 05:37:00 PM',\n",
       " '10/14/2014 05:45:00 PM',\n",
       " '10/14/2014 05:49:00 PM',\n",
       " '10/14/2014 05:45:00 PM',\n",
       " '10/14/2014 05:44:00 PM',\n",
       " '10/14/2014 05:54:00 PM',\n",
       " '10/14/2014 05:51:00 PM',\n",
       " '10/14/2014 05:52:00 PM',\n",
       " '10/14/2014 05:47:00 PM',\n",
       " '10/14/2014 05:56:00 PM',\n",
       " '10/14/2014 05:48:00 PM',\n",
       " '10/14/2014 05:56:00 PM',\n",
       " '10/14/2014 05:56:00 PM',\n",
       " '10/14/2014 05:54:00 PM',\n",
       " '10/14/2014 05:54:00 PM',\n",
       " '10/14/2014 06:07:00 PM',\n",
       " '10/14/2014 06:10:00 PM',\n",
       " '10/14/2014 06:07:00 PM',\n",
       " '10/14/2014 06:02:00 PM',\n",
       " '10/14/2014 06:09:00 PM',\n",
       " '10/14/2014 06:04:00 PM',\n",
       " '10/14/2014 06:02:00 PM',\n",
       " '10/14/2014 07:03:00 PM',\n",
       " '10/14/2014 06:36:00 PM',\n",
       " '10/14/2014 06:06:00 PM',\n",
       " '10/14/2014 06:06:00 PM',\n",
       " '10/14/2014 06:09:00 PM',\n",
       " '10/14/2014 06:14:00 PM',\n",
       " '10/14/2014 07:04:00 PM',\n",
       " '10/14/2014 07:03:00 PM',\n",
       " '10/14/2014 06:10:00 PM',\n",
       " '10/14/2014 06:47:00 PM',\n",
       " '10/14/2014 06:24:00 PM',\n",
       " '10/14/2014 06:35:00 PM',\n",
       " '10/14/2014 06:35:00 PM',\n",
       " '10/14/2014 06:27:00 PM',\n",
       " '10/14/2014 06:27:00 PM',\n",
       " '10/14/2014 06:28:00 PM',\n",
       " '10/14/2014 06:26:00 PM',\n",
       " '10/14/2014 06:30:00 PM',\n",
       " '10/14/2014 06:29:00 PM',\n",
       " '10/14/2014 06:32:00 PM',\n",
       " '10/14/2014 06:35:00 PM',\n",
       " '10/14/2014 06:37:00 PM',\n",
       " '10/14/2014 06:30:00 PM',\n",
       " '10/14/2014 06:35:00 PM',\n",
       " '10/14/2014 06:29:00 PM',\n",
       " '10/14/2014 06:39:00 PM',\n",
       " '10/14/2014 06:34:00 PM',\n",
       " '10/14/2014 06:53:00 PM',\n",
       " '10/14/2014 06:44:00 PM',\n",
       " '10/14/2014 06:40:00 PM',\n",
       " '10/14/2014 07:09:00 PM',\n",
       " '10/14/2014 06:45:00 PM',\n",
       " '10/14/2014 06:51:00 PM',\n",
       " '10/14/2014 06:49:00 PM',\n",
       " '10/14/2014 06:52:00 PM',\n",
       " '10/14/2014 06:53:00 PM',\n",
       " '10/14/2014 06:55:00 PM',\n",
       " '10/14/2014 06:55:00 PM',\n",
       " '10/14/2014 07:02:00 PM',\n",
       " '10/14/2014 06:59:00 PM',\n",
       " '10/14/2014 06:59:00 PM',\n",
       " '10/14/2014 06:59:00 PM',\n",
       " '10/14/2014 07:03:00 PM',\n",
       " '10/14/2014 07:07:00 PM',\n",
       " '10/14/2014 07:05:00 PM',\n",
       " '10/14/2014 07:22:00 PM',\n",
       " '10/14/2014 07:12:00 PM',\n",
       " '10/14/2014 07:28:00 PM',\n",
       " '10/14/2014 07:28:00 PM',\n",
       " '10/14/2014 07:25:00 PM',\n",
       " '10/14/2014 07:16:00 PM',\n",
       " '10/14/2014 07:36:00 PM',\n",
       " '10/14/2014 07:24:00 PM',\n",
       " '10/14/2014 07:29:00 PM',\n",
       " '10/14/2014 07:47:00 PM',\n",
       " '10/14/2014 07:44:00 PM',\n",
       " '10/14/2014 07:44:00 PM',\n",
       " '10/14/2014 07:48:00 PM',\n",
       " '10/14/2014 07:48:00 PM',\n",
       " '10/14/2014 07:42:00 PM',\n",
       " '10/14/2014 07:45:00 PM',\n",
       " '10/14/2014 07:55:00 PM',\n",
       " '10/14/2014 07:48:00 PM',\n",
       " '10/14/2014 07:51:00 PM',\n",
       " '10/14/2014 08:26:00 PM',\n",
       " '10/14/2014 08:26:00 PM',\n",
       " '10/14/2014 07:51:00 PM',\n",
       " '10/14/2014 07:53:00 PM',\n",
       " '10/14/2014 09:27:00 PM',\n",
       " '10/14/2014 09:37:00 PM',\n",
       " '10/14/2014 09:26:00 PM',\n",
       " '10/14/2014 08:11:00 PM',\n",
       " '10/14/2014 08:36:00 PM',\n",
       " '10/14/2014 08:17:00 PM',\n",
       " '10/14/2014 08:36:00 PM',\n",
       " '10/14/2014 08:36:00 PM',\n",
       " '10/14/2014 08:14:00 PM',\n",
       " '10/14/2014 08:22:00 PM',\n",
       " '10/14/2014 08:22:00 PM',\n",
       " '10/14/2014 08:42:00 PM',\n",
       " '10/14/2014 08:32:00 PM',\n",
       " '10/14/2014 08:49:00 PM',\n",
       " '10/14/2014 09:39:00 PM',\n",
       " '10/14/2014 08:57:00 PM',\n",
       " '10/14/2014 09:01:00 PM',\n",
       " '10/14/2014 09:02:00 PM',\n",
       " '10/14/2014 09:04:00 PM',\n",
       " '10/14/2014 09:04:00 PM',\n",
       " '10/14/2014 09:08:00 PM',\n",
       " '10/14/2014 09:06:00 PM',\n",
       " '10/14/2014 09:16:00 PM',\n",
       " '10/14/2014 09:23:00 PM',\n",
       " '10/14/2014 09:19:00 PM',\n",
       " '10/14/2014 10:46:00 PM',\n",
       " '10/14/2014 09:26:00 PM',\n",
       " '10/14/2014 09:26:00 PM',\n",
       " '10/14/2014 09:33:00 PM',\n",
       " '10/14/2014 09:43:00 PM',\n",
       " '10/14/2014 09:46:00 PM',\n",
       " '10/14/2014 09:48:00 PM',\n",
       " '10/14/2014 10:02:00 PM',\n",
       " '10/14/2014 10:16:00 PM',\n",
       " '10/14/2014 10:30:00 PM',\n",
       " '10/14/2014 10:30:00 PM',\n",
       " '10/15/2014 04:29:00 AM',\n",
       " '10/15/2014 04:29:00 AM',\n",
       " '10/14/2014 10:50:00 PM',\n",
       " '10/14/2014 10:55:00 PM',\n",
       " '10/14/2014 11:20:00 PM',\n",
       " '10/15/2014 12:01:00 AM',\n",
       " '10/15/2014 12:18:00 AM',\n",
       " '10/15/2014 12:22:00 AM',\n",
       " '10/15/2014 12:53:00 AM',\n",
       " '10/15/2014 01:13:00 AM',\n",
       " '10/15/2014 01:59:00 AM',\n",
       " '10/15/2014 02:12:00 AM',\n",
       " '10/15/2014 06:16:00 AM',\n",
       " '10/15/2014 06:20:00 AM',\n",
       " '10/15/2014 06:47:00 AM',\n",
       " '10/15/2014 06:40:00 AM',\n",
       " '10/15/2014 06:44:00 AM',\n",
       " '10/15/2014 06:39:00 AM',\n",
       " '10/15/2014 06:47:00 AM',\n",
       " '10/15/2014 07:03:00 AM',\n",
       " '10/15/2014 07:21:00 AM',\n",
       " '10/15/2014 07:24:00 AM',\n",
       " '10/15/2014 07:22:00 AM',\n",
       " '10/15/2014 07:44:00 AM',\n",
       " '10/15/2014 07:49:00 AM',\n",
       " '10/15/2014 07:52:00 AM',\n",
       " '10/15/2014 08:01:00 AM',\n",
       " '10/15/2014 08:02:00 AM',\n",
       " '10/15/2014 08:15:00 AM',\n",
       " '10/15/2014 08:16:00 AM',\n",
       " '10/15/2014 08:13:00 AM',\n",
       " '10/15/2014 08:18:00 AM',\n",
       " '10/15/2014 08:19:00 AM',\n",
       " '10/15/2014 08:38:00 AM',\n",
       " '10/15/2014 08:35:00 AM',\n",
       " '10/15/2014 08:35:00 AM',\n",
       " '10/15/2014 08:47:00 AM',\n",
       " '10/15/2014 08:36:00 AM',\n",
       " '10/15/2014 08:52:00 AM',\n",
       " '10/15/2014 08:56:00 AM',\n",
       " '10/15/2014 09:16:00 AM',\n",
       " '10/15/2014 09:16:00 AM',\n",
       " '10/15/2014 09:09:00 AM',\n",
       " '10/15/2014 09:14:00 AM',\n",
       " '10/15/2014 09:26:00 AM',\n",
       " '10/15/2014 09:19:00 AM',\n",
       " '10/15/2014 09:23:00 AM',\n",
       " '10/15/2014 09:28:00 AM',\n",
       " '10/15/2014 09:31:00 AM',\n",
       " '10/15/2014 09:34:00 AM',\n",
       " '10/15/2014 09:27:00 AM',\n",
       " '10/15/2014 09:39:00 AM',\n",
       " '10/15/2014 09:29:00 AM',\n",
       " '10/15/2014 09:37:00 AM',\n",
       " '10/15/2014 09:30:00 AM',\n",
       " '10/15/2014 09:39:00 AM',\n",
       " '10/15/2014 09:57:00 AM',\n",
       " '10/15/2014 09:54:00 AM',\n",
       " '10/15/2014 10:01:00 AM',\n",
       " '10/15/2014 09:57:00 AM',\n",
       " '10/15/2014 09:58:00 AM',\n",
       " '10/15/2014 10:09:00 AM',\n",
       " '10/15/2014 10:15:00 AM',\n",
       " '10/15/2014 10:22:00 AM',\n",
       " '10/15/2014 10:08:00 AM',\n",
       " '10/15/2014 10:13:00 AM',\n",
       " '10/15/2014 10:15:00 AM',\n",
       " '10/15/2014 10:41:00 AM',\n",
       " '10/15/2014 10:28:00 AM',\n",
       " '10/15/2014 10:33:00 AM',\n",
       " '10/15/2014 10:38:00 AM',\n",
       " '10/15/2014 10:34:00 AM',\n",
       " '10/15/2014 10:42:00 AM',\n",
       " '10/15/2014 10:37:00 AM',\n",
       " '10/15/2014 11:06:00 AM',\n",
       " '10/15/2014 11:06:00 AM',\n",
       " '10/15/2014 10:49:00 AM',\n",
       " '10/15/2014 10:52:00 AM',\n",
       " '10/15/2014 10:53:00 AM',\n",
       " '10/15/2014 11:11:00 AM',\n",
       " '10/15/2014 11:03:00 AM',\n",
       " '10/15/2014 11:05:00 AM',\n",
       " '10/15/2014 11:03:00 AM',\n",
       " '10/15/2014 11:03:00 AM',\n",
       " '10/15/2014 11:05:00 AM',\n",
       " '10/15/2014 11:07:00 AM',\n",
       " '10/15/2014 11:24:00 AM',\n",
       " '10/15/2014 11:29:00 AM',\n",
       " '10/15/2014 11:32:00 AM',\n",
       " '10/15/2014 11:21:00 AM',\n",
       " '10/15/2014 11:42:00 AM',\n",
       " '10/15/2014 11:34:00 AM',\n",
       " '10/15/2014 11:42:00 AM',\n",
       " '10/15/2014 11:53:00 AM',\n",
       " '10/15/2014 11:44:00 AM',\n",
       " '10/15/2014 12:01:00 PM',\n",
       " '10/15/2014 11:52:00 AM',\n",
       " '10/15/2014 12:05:00 PM',\n",
       " '10/15/2014 12:05:00 PM',\n",
       " '10/15/2014 12:40:00 PM',\n",
       " '10/15/2014 12:40:00 PM',\n",
       " '10/15/2014 12:52:00 PM',\n",
       " '10/15/2014 12:34:00 PM',\n",
       " '10/15/2014 12:32:00 PM',\n",
       " '10/15/2014 12:38:00 PM',\n",
       " '10/15/2014 12:53:00 PM',\n",
       " ...]"
      ]
     },
     "execution_count": 14,
     "metadata": {},
     "output_type": "execute_result"
    }
   ],
   "source": [
    "df_small.tolist()"
   ]
  },
  {
   "cell_type": "markdown",
   "metadata": {},
   "source": [
    "Mathematical operations on columns happen *element-wise*:"
   ]
  },
  {
   "cell_type": "code",
   "execution_count": 15,
   "metadata": {},
   "outputs": [
    {
     "data": {
      "text/plain": [
       "0    0.273871\n",
       "1    0.257326\n",
       "Name: tripduration, dtype: float64"
      ]
     },
     "execution_count": 15,
     "metadata": {},
     "output_type": "execute_result"
    }
   ],
   "source": [
    "trip_duration_hours = df['tripduration']/3600\n",
    "trip_duration_hours[:2]"
   ]
  },
  {
   "cell_type": "code",
   "execution_count": 16,
   "metadata": {},
   "outputs": [
    {
     "data": {
      "text/plain": [
       "0    0.273871\n",
       "1    0.257326\n",
       "2    0.245509\n",
       "3    0.240538\n",
       "4    0.256645\n",
       "Name: tripduration, dtype: float64"
      ]
     },
     "execution_count": 16,
     "metadata": {},
     "output_type": "execute_result"
    }
   ],
   "source": [
    "trip_duration_hours.head()"
   ]
  },
  {
   "cell_type": "code",
   "execution_count": 17,
   "metadata": {},
   "outputs": [],
   "source": [
    "df['trip_duration_hours'] = df['tripduration']/3600"
   ]
  },
  {
   "cell_type": "code",
   "execution_count": 18,
   "metadata": {},
   "outputs": [],
   "source": [
    "del df['trip_duration_hours']"
   ]
  },
  {
   "cell_type": "code",
   "execution_count": 19,
   "metadata": {},
   "outputs": [
    {
     "data": {
      "text/html": [
       "<div>\n",
       "<style scoped>\n",
       "    .dataframe tbody tr th:only-of-type {\n",
       "        vertical-align: middle;\n",
       "    }\n",
       "\n",
       "    .dataframe tbody tr th {\n",
       "        vertical-align: top;\n",
       "    }\n",
       "\n",
       "    .dataframe thead th {\n",
       "        text-align: right;\n",
       "    }\n",
       "</style>\n",
       "<table border=\"1\" class=\"dataframe\">\n",
       "  <thead>\n",
       "    <tr style=\"text-align: right;\">\n",
       "      <th></th>\n",
       "      <th>trip_id</th>\n",
       "      <th>starttime</th>\n",
       "      <th>stoptime</th>\n",
       "      <th>bikeid</th>\n",
       "      <th>tripduration</th>\n",
       "      <th>from_station_name</th>\n",
       "      <th>to_station_name</th>\n",
       "      <th>from_station_id</th>\n",
       "      <th>to_station_id</th>\n",
       "      <th>usertype</th>\n",
       "      <th>gender</th>\n",
       "      <th>birthyear</th>\n",
       "    </tr>\n",
       "  </thead>\n",
       "  <tbody>\n",
       "    <tr>\n",
       "      <th>0</th>\n",
       "      <td>431</td>\n",
       "      <td>10/13/2014 10:31:00 AM</td>\n",
       "      <td>10/13/2014 10:48:00 AM</td>\n",
       "      <td>SEA00298</td>\n",
       "      <td>985.935</td>\n",
       "      <td>2nd Ave &amp; Spring St</td>\n",
       "      <td>Occidental Park / Occidental Ave S &amp; S Washing...</td>\n",
       "      <td>CBD-06</td>\n",
       "      <td>PS-04</td>\n",
       "      <td>Member</td>\n",
       "      <td>Male</td>\n",
       "      <td>1960.0</td>\n",
       "    </tr>\n",
       "    <tr>\n",
       "      <th>1</th>\n",
       "      <td>432</td>\n",
       "      <td>10/13/2014 10:32:00 AM</td>\n",
       "      <td>10/13/2014 10:48:00 AM</td>\n",
       "      <td>SEA00195</td>\n",
       "      <td>926.375</td>\n",
       "      <td>2nd Ave &amp; Spring St</td>\n",
       "      <td>Occidental Park / Occidental Ave S &amp; S Washing...</td>\n",
       "      <td>CBD-06</td>\n",
       "      <td>PS-04</td>\n",
       "      <td>Member</td>\n",
       "      <td>Male</td>\n",
       "      <td>1970.0</td>\n",
       "    </tr>\n",
       "    <tr>\n",
       "      <th>2</th>\n",
       "      <td>433</td>\n",
       "      <td>10/13/2014 10:33:00 AM</td>\n",
       "      <td>10/13/2014 10:48:00 AM</td>\n",
       "      <td>SEA00486</td>\n",
       "      <td>883.831</td>\n",
       "      <td>2nd Ave &amp; Spring St</td>\n",
       "      <td>Occidental Park / Occidental Ave S &amp; S Washing...</td>\n",
       "      <td>CBD-06</td>\n",
       "      <td>PS-04</td>\n",
       "      <td>Member</td>\n",
       "      <td>Female</td>\n",
       "      <td>1988.0</td>\n",
       "    </tr>\n",
       "    <tr>\n",
       "      <th>3</th>\n",
       "      <td>434</td>\n",
       "      <td>10/13/2014 10:34:00 AM</td>\n",
       "      <td>10/13/2014 10:48:00 AM</td>\n",
       "      <td>SEA00333</td>\n",
       "      <td>865.937</td>\n",
       "      <td>2nd Ave &amp; Spring St</td>\n",
       "      <td>Occidental Park / Occidental Ave S &amp; S Washing...</td>\n",
       "      <td>CBD-06</td>\n",
       "      <td>PS-04</td>\n",
       "      <td>Member</td>\n",
       "      <td>Female</td>\n",
       "      <td>1977.0</td>\n",
       "    </tr>\n",
       "    <tr>\n",
       "      <th>4</th>\n",
       "      <td>435</td>\n",
       "      <td>10/13/2014 10:34:00 AM</td>\n",
       "      <td>10/13/2014 10:49:00 AM</td>\n",
       "      <td>SEA00202</td>\n",
       "      <td>923.923</td>\n",
       "      <td>2nd Ave &amp; Spring St</td>\n",
       "      <td>Occidental Park / Occidental Ave S &amp; S Washing...</td>\n",
       "      <td>CBD-06</td>\n",
       "      <td>PS-04</td>\n",
       "      <td>Member</td>\n",
       "      <td>Male</td>\n",
       "      <td>1971.0</td>\n",
       "    </tr>\n",
       "  </tbody>\n",
       "</table>\n",
       "</div>"
      ],
      "text/plain": [
       "   trip_id               starttime                stoptime    bikeid  \\\n",
       "0      431  10/13/2014 10:31:00 AM  10/13/2014 10:48:00 AM  SEA00298   \n",
       "1      432  10/13/2014 10:32:00 AM  10/13/2014 10:48:00 AM  SEA00195   \n",
       "2      433  10/13/2014 10:33:00 AM  10/13/2014 10:48:00 AM  SEA00486   \n",
       "3      434  10/13/2014 10:34:00 AM  10/13/2014 10:48:00 AM  SEA00333   \n",
       "4      435  10/13/2014 10:34:00 AM  10/13/2014 10:49:00 AM  SEA00202   \n",
       "\n",
       "   tripduration    from_station_name  \\\n",
       "0       985.935  2nd Ave & Spring St   \n",
       "1       926.375  2nd Ave & Spring St   \n",
       "2       883.831  2nd Ave & Spring St   \n",
       "3       865.937  2nd Ave & Spring St   \n",
       "4       923.923  2nd Ave & Spring St   \n",
       "\n",
       "                                     to_station_name from_station_id  \\\n",
       "0  Occidental Park / Occidental Ave S & S Washing...          CBD-06   \n",
       "1  Occidental Park / Occidental Ave S & S Washing...          CBD-06   \n",
       "2  Occidental Park / Occidental Ave S & S Washing...          CBD-06   \n",
       "3  Occidental Park / Occidental Ave S & S Washing...          CBD-06   \n",
       "4  Occidental Park / Occidental Ave S & S Washing...          CBD-06   \n",
       "\n",
       "  to_station_id usertype  gender  birthyear  \n",
       "0         PS-04   Member    Male     1960.0  \n",
       "1         PS-04   Member    Male     1970.0  \n",
       "2         PS-04   Member  Female     1988.0  \n",
       "3         PS-04   Member  Female     1977.0  \n",
       "4         PS-04   Member    Male     1971.0  "
      ]
     },
     "execution_count": 19,
     "metadata": {},
     "output_type": "execute_result"
    }
   ],
   "source": [
    "df.head()"
   ]
  },
  {
   "cell_type": "code",
   "execution_count": 31,
   "metadata": {},
   "outputs": [
    {
     "data": {
      "text/html": [
       "<div>\n",
       "<style scoped>\n",
       "    .dataframe tbody tr th:only-of-type {\n",
       "        vertical-align: middle;\n",
       "    }\n",
       "\n",
       "    .dataframe tbody tr th {\n",
       "        vertical-align: top;\n",
       "    }\n",
       "\n",
       "    .dataframe thead th {\n",
       "        text-align: right;\n",
       "    }\n",
       "</style>\n",
       "<table border=\"1\" class=\"dataframe\">\n",
       "  <thead>\n",
       "    <tr style=\"text-align: right;\">\n",
       "      <th></th>\n",
       "      <th>starttime</th>\n",
       "    </tr>\n",
       "  </thead>\n",
       "  <tbody>\n",
       "    <tr>\n",
       "      <th>0</th>\n",
       "      <td>10/13/2014 10:31:00 AM</td>\n",
       "    </tr>\n",
       "    <tr>\n",
       "      <th>3</th>\n",
       "      <td>10/13/2014 10:34:00 AM</td>\n",
       "    </tr>\n",
       "  </tbody>\n",
       "</table>\n",
       "</div>"
      ],
      "text/plain": [
       "                starttime\n",
       "0  10/13/2014 10:31:00 AM\n",
       "3  10/13/2014 10:34:00 AM"
      ]
     },
     "execution_count": 31,
     "metadata": {},
     "output_type": "execute_result"
    }
   ],
   "source": [
    "df.loc[[0,3],['starttime']]"
   ]
  },
  {
   "cell_type": "code",
   "execution_count": 21,
   "metadata": {},
   "outputs": [],
   "source": [
    "df_long_trips = df[df['tripduration'] >10000]"
   ]
  },
  {
   "cell_type": "code",
   "execution_count": 22,
   "metadata": {},
   "outputs": [],
   "source": [
    "sel = df['tripduration'] > 10000\n",
    "df_long_trips = df[sel]"
   ]
  },
  {
   "cell_type": "code",
   "execution_count": null,
   "metadata": {},
   "outputs": [],
   "source": [
    "df_long_trips"
   ]
  },
  {
   "cell_type": "code",
   "execution_count": null,
   "metadata": {},
   "outputs": [],
   "source": [
    "df[sel].shape"
   ]
  },
  {
   "cell_type": "code",
   "execution_count": null,
   "metadata": {},
   "outputs": [],
   "source": [
    "# Make a copy of a slice\n",
    "df_subset = df[['starttime', 'stoptime']].copy()\n",
    "df_subset['trip_hours'] = df['tripduration']/3600"
   ]
  },
  {
   "cell_type": "markdown",
   "metadata": {},
   "source": [
    "Columns can be created (or overwritten) with the assignment operator.\n",
    "Let's create a *tripminutes* column with the number of minutes for each trip"
   ]
  },
  {
   "cell_type": "markdown",
   "metadata": {},
   "source": [
    "More complicated mathematical operations can be done with tools in the ``numpy`` package:"
   ]
  },
  {
   "cell_type": "markdown",
   "metadata": {},
   "source": [
    "### Working with Times"
   ]
  },
  {
   "cell_type": "markdown",
   "metadata": {},
   "source": [
    "One trick to know when working with columns of times is that Pandas ``DateTimeIndex`` provides a nice interface for working with columns of times.\n",
    "\n",
    "For a dataset of this size, using ``pd.to_datetime`` and specifying the date format can make things much faster (from the [strftime reference](http://strftime.org/), we see that the pronto data has format ``\"%m/%d/%Y %I:%M:%S %p\"``"
   ]
  },
  {
   "cell_type": "markdown",
   "metadata": {},
   "source": [
    "(Note: you can also use ``infer_datetime_format=True`` in most cases to automatically infer the correct format, though due to a bug it doesn't work when AM/PM are present)"
   ]
  },
  {
   "cell_type": "markdown",
   "metadata": {},
   "source": [
    "With it, we can extract, the hour of the day, the day of the week, the month, and a wide range of other views of the time:"
   ]
  },
  {
   "cell_type": "markdown",
   "metadata": {},
   "source": [
    "### Simple Grouping of Data\n",
    "\n",
    "The real power of Pandas comes in its tools for grouping and aggregating data. Here we'll look at *value counts* and the basics of *group-by* operations."
   ]
  },
  {
   "cell_type": "markdown",
   "metadata": {},
   "source": [
    "#### Value Counts"
   ]
  },
  {
   "cell_type": "markdown",
   "metadata": {},
   "source": [
    "Pandas includes an array of useful functionality for manipulating and analyzing tabular data.\n",
    "We'll take a look at two of these here."
   ]
  },
  {
   "cell_type": "markdown",
   "metadata": {},
   "source": [
    "The ``pandas.value_counts`` returns statistics on the unique values within each column.\n",
    "\n",
    "We can use it, for example, to break down rides by gender:"
   ]
  },
  {
   "cell_type": "code",
   "execution_count": null,
   "metadata": {},
   "outputs": [],
   "source": [
    "pd.value_counts(df[\"gender\"])"
   ]
  },
  {
   "cell_type": "markdown",
   "metadata": {},
   "source": [
    "Or to break down rides by age:"
   ]
  },
  {
   "cell_type": "code",
   "execution_count": null,
   "metadata": {},
   "outputs": [],
   "source": [
    "pd.value_counts(2019 - df[\"birthyear\"])"
   ]
  },
  {
   "cell_type": "markdown",
   "metadata": {},
   "source": [
    "By default, the values rather than the index are sorted. Use ``sort=False`` to turn this behavior off:"
   ]
  },
  {
   "cell_type": "code",
   "execution_count": null,
   "metadata": {},
   "outputs": [],
   "source": [
    "pd.value_counts(df[\"birthyear\"], sort=False)"
   ]
  },
  {
   "cell_type": "markdown",
   "metadata": {},
   "source": [
    "We can explore other things as well: day of week, hour of day, etc."
   ]
  },
  {
   "cell_type": "code",
   "execution_count": null,
   "metadata": {},
   "outputs": [],
   "source": [
    "#"
   ]
  },
  {
   "cell_type": "markdown",
   "metadata": {},
   "source": [
    "### Group-by Operation\n",
    "\n",
    "One of the killer features of the Pandas dataframe is the ability to do group-by operations.\n",
    "You can visualize the group-by like this (image borrowed from the [Python Data Science Handbook](http://shop.oreilly.com/product/0636920034919.do))"
   ]
  },
  {
   "cell_type": "code",
   "execution_count": 32,
   "metadata": {},
   "outputs": [
    {
     "data": {
      "text/html": [
       "<div>\n",
       "<style scoped>\n",
       "    .dataframe tbody tr th:only-of-type {\n",
       "        vertical-align: middle;\n",
       "    }\n",
       "\n",
       "    .dataframe tbody tr th {\n",
       "        vertical-align: top;\n",
       "    }\n",
       "\n",
       "    .dataframe thead th {\n",
       "        text-align: right;\n",
       "    }\n",
       "</style>\n",
       "<table border=\"1\" class=\"dataframe\">\n",
       "  <thead>\n",
       "    <tr style=\"text-align: right;\">\n",
       "      <th></th>\n",
       "      <th>trip_id</th>\n",
       "      <th>starttime</th>\n",
       "      <th>stoptime</th>\n",
       "      <th>bikeid</th>\n",
       "      <th>tripduration</th>\n",
       "      <th>from_station_name</th>\n",
       "      <th>to_station_name</th>\n",
       "      <th>from_station_id</th>\n",
       "      <th>to_station_id</th>\n",
       "      <th>usertype</th>\n",
       "      <th>gender</th>\n",
       "      <th>birthyear</th>\n",
       "    </tr>\n",
       "  </thead>\n",
       "  <tbody>\n",
       "    <tr>\n",
       "      <th>0</th>\n",
       "      <td>431</td>\n",
       "      <td>10/13/2014 10:31:00 AM</td>\n",
       "      <td>10/13/2014 10:48:00 AM</td>\n",
       "      <td>SEA00298</td>\n",
       "      <td>985.935</td>\n",
       "      <td>2nd Ave &amp; Spring St</td>\n",
       "      <td>Occidental Park / Occidental Ave S &amp; S Washing...</td>\n",
       "      <td>CBD-06</td>\n",
       "      <td>PS-04</td>\n",
       "      <td>Member</td>\n",
       "      <td>Male</td>\n",
       "      <td>1960.0</td>\n",
       "    </tr>\n",
       "    <tr>\n",
       "      <th>1</th>\n",
       "      <td>432</td>\n",
       "      <td>10/13/2014 10:32:00 AM</td>\n",
       "      <td>10/13/2014 10:48:00 AM</td>\n",
       "      <td>SEA00195</td>\n",
       "      <td>926.375</td>\n",
       "      <td>2nd Ave &amp; Spring St</td>\n",
       "      <td>Occidental Park / Occidental Ave S &amp; S Washing...</td>\n",
       "      <td>CBD-06</td>\n",
       "      <td>PS-04</td>\n",
       "      <td>Member</td>\n",
       "      <td>Male</td>\n",
       "      <td>1970.0</td>\n",
       "    </tr>\n",
       "    <tr>\n",
       "      <th>2</th>\n",
       "      <td>433</td>\n",
       "      <td>10/13/2014 10:33:00 AM</td>\n",
       "      <td>10/13/2014 10:48:00 AM</td>\n",
       "      <td>SEA00486</td>\n",
       "      <td>883.831</td>\n",
       "      <td>2nd Ave &amp; Spring St</td>\n",
       "      <td>Occidental Park / Occidental Ave S &amp; S Washing...</td>\n",
       "      <td>CBD-06</td>\n",
       "      <td>PS-04</td>\n",
       "      <td>Member</td>\n",
       "      <td>Female</td>\n",
       "      <td>1988.0</td>\n",
       "    </tr>\n",
       "    <tr>\n",
       "      <th>3</th>\n",
       "      <td>434</td>\n",
       "      <td>10/13/2014 10:34:00 AM</td>\n",
       "      <td>10/13/2014 10:48:00 AM</td>\n",
       "      <td>SEA00333</td>\n",
       "      <td>865.937</td>\n",
       "      <td>2nd Ave &amp; Spring St</td>\n",
       "      <td>Occidental Park / Occidental Ave S &amp; S Washing...</td>\n",
       "      <td>CBD-06</td>\n",
       "      <td>PS-04</td>\n",
       "      <td>Member</td>\n",
       "      <td>Female</td>\n",
       "      <td>1977.0</td>\n",
       "    </tr>\n",
       "    <tr>\n",
       "      <th>4</th>\n",
       "      <td>435</td>\n",
       "      <td>10/13/2014 10:34:00 AM</td>\n",
       "      <td>10/13/2014 10:49:00 AM</td>\n",
       "      <td>SEA00202</td>\n",
       "      <td>923.923</td>\n",
       "      <td>2nd Ave &amp; Spring St</td>\n",
       "      <td>Occidental Park / Occidental Ave S &amp; S Washing...</td>\n",
       "      <td>CBD-06</td>\n",
       "      <td>PS-04</td>\n",
       "      <td>Member</td>\n",
       "      <td>Male</td>\n",
       "      <td>1971.0</td>\n",
       "    </tr>\n",
       "  </tbody>\n",
       "</table>\n",
       "</div>"
      ],
      "text/plain": [
       "   trip_id               starttime                stoptime    bikeid  \\\n",
       "0      431  10/13/2014 10:31:00 AM  10/13/2014 10:48:00 AM  SEA00298   \n",
       "1      432  10/13/2014 10:32:00 AM  10/13/2014 10:48:00 AM  SEA00195   \n",
       "2      433  10/13/2014 10:33:00 AM  10/13/2014 10:48:00 AM  SEA00486   \n",
       "3      434  10/13/2014 10:34:00 AM  10/13/2014 10:48:00 AM  SEA00333   \n",
       "4      435  10/13/2014 10:34:00 AM  10/13/2014 10:49:00 AM  SEA00202   \n",
       "\n",
       "   tripduration    from_station_name  \\\n",
       "0       985.935  2nd Ave & Spring St   \n",
       "1       926.375  2nd Ave & Spring St   \n",
       "2       883.831  2nd Ave & Spring St   \n",
       "3       865.937  2nd Ave & Spring St   \n",
       "4       923.923  2nd Ave & Spring St   \n",
       "\n",
       "                                     to_station_name from_station_id  \\\n",
       "0  Occidental Park / Occidental Ave S & S Washing...          CBD-06   \n",
       "1  Occidental Park / Occidental Ave S & S Washing...          CBD-06   \n",
       "2  Occidental Park / Occidental Ave S & S Washing...          CBD-06   \n",
       "3  Occidental Park / Occidental Ave S & S Washing...          CBD-06   \n",
       "4  Occidental Park / Occidental Ave S & S Washing...          CBD-06   \n",
       "\n",
       "  to_station_id usertype  gender  birthyear  \n",
       "0         PS-04   Member    Male     1960.0  \n",
       "1         PS-04   Member    Male     1970.0  \n",
       "2         PS-04   Member  Female     1988.0  \n",
       "3         PS-04   Member  Female     1977.0  \n",
       "4         PS-04   Member    Male     1971.0  "
      ]
     },
     "execution_count": 32,
     "metadata": {},
     "output_type": "execute_result"
    }
   ],
   "source": [
    "df.head()"
   ]
  },
  {
   "cell_type": "code",
   "execution_count": 33,
   "metadata": {},
   "outputs": [
    {
     "data": {
      "text/html": [
       "<div>\n",
       "<style scoped>\n",
       "    .dataframe tbody tr th:only-of-type {\n",
       "        vertical-align: middle;\n",
       "    }\n",
       "\n",
       "    .dataframe tbody tr th {\n",
       "        vertical-align: top;\n",
       "    }\n",
       "\n",
       "    .dataframe thead th {\n",
       "        text-align: right;\n",
       "    }\n",
       "</style>\n",
       "<table border=\"1\" class=\"dataframe\">\n",
       "  <thead>\n",
       "    <tr style=\"text-align: right;\">\n",
       "      <th></th>\n",
       "      <th>trip_id</th>\n",
       "      <th>starttime</th>\n",
       "      <th>stoptime</th>\n",
       "      <th>bikeid</th>\n",
       "      <th>tripduration</th>\n",
       "      <th>from_station_name</th>\n",
       "      <th>to_station_name</th>\n",
       "      <th>to_station_id</th>\n",
       "      <th>usertype</th>\n",
       "      <th>gender</th>\n",
       "      <th>birthyear</th>\n",
       "    </tr>\n",
       "    <tr>\n",
       "      <th>from_station_id</th>\n",
       "      <th></th>\n",
       "      <th></th>\n",
       "      <th></th>\n",
       "      <th></th>\n",
       "      <th></th>\n",
       "      <th></th>\n",
       "      <th></th>\n",
       "      <th></th>\n",
       "      <th></th>\n",
       "      <th></th>\n",
       "      <th></th>\n",
       "    </tr>\n",
       "  </thead>\n",
       "  <tbody>\n",
       "    <tr>\n",
       "      <th>BT-01</th>\n",
       "      <td>10463</td>\n",
       "      <td>10463</td>\n",
       "      <td>10463</td>\n",
       "      <td>10463</td>\n",
       "      <td>10463</td>\n",
       "      <td>10463</td>\n",
       "      <td>10463</td>\n",
       "      <td>10463</td>\n",
       "      <td>10463</td>\n",
       "      <td>4162</td>\n",
       "      <td>4162</td>\n",
       "    </tr>\n",
       "    <tr>\n",
       "      <th>BT-03</th>\n",
       "      <td>7334</td>\n",
       "      <td>7334</td>\n",
       "      <td>7334</td>\n",
       "      <td>7334</td>\n",
       "      <td>7334</td>\n",
       "      <td>7334</td>\n",
       "      <td>7334</td>\n",
       "      <td>7334</td>\n",
       "      <td>7334</td>\n",
       "      <td>4862</td>\n",
       "      <td>4862</td>\n",
       "    </tr>\n",
       "    <tr>\n",
       "      <th>BT-04</th>\n",
       "      <td>4666</td>\n",
       "      <td>4666</td>\n",
       "      <td>4666</td>\n",
       "      <td>4666</td>\n",
       "      <td>4666</td>\n",
       "      <td>4666</td>\n",
       "      <td>4666</td>\n",
       "      <td>4666</td>\n",
       "      <td>4666</td>\n",
       "      <td>3424</td>\n",
       "      <td>3424</td>\n",
       "    </tr>\n",
       "    <tr>\n",
       "      <th>BT-05</th>\n",
       "      <td>5699</td>\n",
       "      <td>5699</td>\n",
       "      <td>5699</td>\n",
       "      <td>5699</td>\n",
       "      <td>5699</td>\n",
       "      <td>5699</td>\n",
       "      <td>5699</td>\n",
       "      <td>5699</td>\n",
       "      <td>5699</td>\n",
       "      <td>2975</td>\n",
       "      <td>2975</td>\n",
       "    </tr>\n",
       "    <tr>\n",
       "      <th>BT-06</th>\n",
       "      <td>150</td>\n",
       "      <td>150</td>\n",
       "      <td>150</td>\n",
       "      <td>150</td>\n",
       "      <td>150</td>\n",
       "      <td>150</td>\n",
       "      <td>150</td>\n",
       "      <td>150</td>\n",
       "      <td>150</td>\n",
       "      <td>130</td>\n",
       "      <td>130</td>\n",
       "    </tr>\n",
       "  </tbody>\n",
       "</table>\n",
       "</div>"
      ],
      "text/plain": [
       "                 trip_id  starttime  stoptime  bikeid  tripduration  \\\n",
       "from_station_id                                                       \n",
       "BT-01              10463      10463     10463   10463         10463   \n",
       "BT-03               7334       7334      7334    7334          7334   \n",
       "BT-04               4666       4666      4666    4666          4666   \n",
       "BT-05               5699       5699      5699    5699          5699   \n",
       "BT-06                150        150       150     150           150   \n",
       "\n",
       "                 from_station_name  to_station_name  to_station_id  usertype  \\\n",
       "from_station_id                                                                \n",
       "BT-01                        10463            10463          10463     10463   \n",
       "BT-03                         7334             7334           7334      7334   \n",
       "BT-04                         4666             4666           4666      4666   \n",
       "BT-05                         5699             5699           5699      5699   \n",
       "BT-06                          150              150            150       150   \n",
       "\n",
       "                 gender  birthyear  \n",
       "from_station_id                     \n",
       "BT-01              4162       4162  \n",
       "BT-03              4862       4862  \n",
       "BT-04              3424       3424  \n",
       "BT-05              2975       2975  \n",
       "BT-06               130        130  "
      ]
     },
     "execution_count": 33,
     "metadata": {},
     "output_type": "execute_result"
    }
   ],
   "source": [
    "df_count = df.groupby(['from_station_id','']).count()\n",
    "df_count.head()"
   ]
  },
  {
   "cell_type": "code",
   "execution_count": null,
   "metadata": {},
   "outputs": [],
   "source": [
    "df_mean = df.groupby(['from_station_id']).mean()\n",
    "df_mean.head()"
   ]
  },
  {
   "cell_type": "code",
   "execution_count": null,
   "metadata": {},
   "outputs": [],
   "source": [
    "dfgroup = df.groupby(['from_station_id'])\n",
    "dfgroup.groups"
   ]
  },
  {
   "cell_type": "markdown",
   "metadata": {},
   "source": [
    "The simplest version of a groupby looks like this, and you can use almost any aggregation function you wish (mean, median, sum, minimum, maximum, standard deviation, count, etc.)\n",
    "\n",
    "```\n",
    "<data object>.groupby(<grouping values>).<aggregate>()\n",
    "```\n",
    "\n",
    "for example, we can group by gender and find the average of all numerical columns:"
   ]
  },
  {
   "cell_type": "code",
   "execution_count": null,
   "metadata": {},
   "outputs": [],
   "source": [
    "df.groupby(gender).mean()"
   ]
  },
  {
   "cell_type": "markdown",
   "metadata": {},
   "source": [
    "It's also possible to index the grouped object like it is a dataframe:"
   ]
  },
  {
   "cell_type": "code",
   "execution_count": null,
   "metadata": {},
   "outputs": [],
   "source": []
  },
  {
   "cell_type": "markdown",
   "metadata": {},
   "source": [
    "You can even group by multiple values: for example we can look at the trip duration by time of day and by gender:"
   ]
  },
  {
   "cell_type": "code",
   "execution_count": null,
   "metadata": {},
   "outputs": [],
   "source": []
  },
  {
   "cell_type": "markdown",
   "metadata": {},
   "source": [
    "The ``unstack()`` operation can help make sense of this type of multiply-grouped data. What this technically does is split a multiple-valued index into an index plus columns:"
   ]
  },
  {
   "cell_type": "code",
   "execution_count": null,
   "metadata": {},
   "outputs": [],
   "source": []
  },
  {
   "cell_type": "markdown",
   "metadata": {},
   "source": [
    "### Visualizing data with ``pandas``\n",
    "\n",
    "Of course, looking at tables of data is not very intuitive.\n",
    "Fortunately Pandas has many useful plotting functions built-in, all of which make use of the ``matplotlib`` library to generate plots.\n",
    "\n",
    "Whenever you do plotting in the IPython notebook, you will want to first run this *magic command* which configures the notebook to work well with plots:"
   ]
  },
  {
   "cell_type": "code",
   "execution_count": null,
   "metadata": {},
   "outputs": [],
   "source": [
    "%matplotlib inline"
   ]
  },
  {
   "cell_type": "markdown",
   "metadata": {},
   "source": [
    "Now we can simply call the ``plot()`` method of any series or dataframe to get a reasonable view of the data:"
   ]
  },
  {
   "cell_type": "code",
   "execution_count": null,
   "metadata": {},
   "outputs": [],
   "source": [
    "import matplotlib.pyplot as plt\n",
    "df['tripduration'].hist()"
   ]
  },
  {
   "cell_type": "markdown",
   "metadata": {},
   "source": [
    "### Adjusting the Plot Style\n",
    "\n",
    "Matplotlib has a number of plot styles you can use. For example, if you like R you might use the ggplot style:"
   ]
  },
  {
   "cell_type": "code",
   "execution_count": null,
   "metadata": {},
   "outputs": [],
   "source": [
    "plt.style.use(\"ggplot\")"
   ]
  },
  {
   "cell_type": "markdown",
   "metadata": {},
   "source": [
    "### Other plot types\n",
    "\n",
    "Pandas supports a range of other plotting types; you can find these by using the <TAB> autocomplete on the ``plot`` method:"
   ]
  },
  {
   "cell_type": "code",
   "execution_count": null,
   "metadata": {},
   "outputs": [],
   "source": [
    "plt."
   ]
  },
  {
   "cell_type": "markdown",
   "metadata": {},
   "source": [
    "For example, we can create a histogram of trip durations:"
   ]
  },
  {
   "cell_type": "code",
   "execution_count": null,
   "metadata": {},
   "outputs": [],
   "source": []
  },
  {
   "cell_type": "markdown",
   "metadata": {},
   "source": [
    "If you'd like to adjust the x and y limits of the plot, you can use the ``set_xlim()`` and ``set_ylim()`` method of the resulting object:"
   ]
  },
  {
   "cell_type": "code",
   "execution_count": null,
   "metadata": {},
   "outputs": [],
   "source": []
  },
  {
   "cell_type": "markdown",
   "metadata": {},
   "source": [
    "## Breakout: Exploring the Data\n",
    "\n",
    "Make a plot of the total number of rides as a function of month of the year (You'll need to extract the month, use a ``groupby``, and find the appropriate aggregation to count the number in each group)."
   ]
  },
  {
   "cell_type": "code",
   "execution_count": null,
   "metadata": {},
   "outputs": [],
   "source": []
  },
  {
   "cell_type": "markdown",
   "metadata": {},
   "source": [
    "Split this plot by gender. Do you see any seasonal ridership patterns by gender?"
   ]
  },
  {
   "cell_type": "code",
   "execution_count": null,
   "metadata": {},
   "outputs": [],
   "source": []
  },
  {
   "cell_type": "markdown",
   "metadata": {},
   "source": [
    "Split this plot by user type. Do you see any seasonal ridership patterns by usertype?"
   ]
  },
  {
   "cell_type": "code",
   "execution_count": null,
   "metadata": {},
   "outputs": [],
   "source": []
  },
  {
   "cell_type": "markdown",
   "metadata": {},
   "source": [
    "Repeat the above three steps, counting the number of rides by time of day rather that by month."
   ]
  },
  {
   "cell_type": "code",
   "execution_count": null,
   "metadata": {},
   "outputs": [],
   "source": []
  },
  {
   "cell_type": "markdown",
   "metadata": {},
   "source": [
    "Are there any other interesting insights you can discover in the data using these tools?"
   ]
  },
  {
   "cell_type": "code",
   "execution_count": null,
   "metadata": {},
   "outputs": [],
   "source": []
  },
  {
   "cell_type": "markdown",
   "metadata": {},
   "source": [
    "### Using Files\n",
    "- Writing and running python modules\n",
    "- Using python modules in your Jupyter Notebook"
   ]
  },
  {
   "cell_type": "code",
   "execution_count": null,
   "metadata": {},
   "outputs": [],
   "source": [
    "# A script for creating a dataframe with counts of the occurrence of a columns' values\n",
    "df_count = df.groupby('from_station_id').count()\n",
    "df_count1 = df_count[['trip_id']]\n",
    "df_count2 = df_count1.rename(columns={'trip_id': 'count'})"
   ]
  },
  {
   "cell_type": "code",
   "execution_count": null,
   "metadata": {},
   "outputs": [],
   "source": [
    "df_count2.head()"
   ]
  },
  {
   "cell_type": "code",
   "execution_count": null,
   "metadata": {},
   "outputs": [],
   "source": [
    "def make_table_count(df_arg, groupby_column):\n",
    "    df_count = df_arg.groupby(groupby_column).count()\n",
    "    column_name = df.columns[0]\n",
    "    df_count1 = df_count[[column_name]]\n",
    "    df_count2 = df_count1.rename(columns={column_name: 'count'})\n",
    "    return df_count2"
   ]
  },
  {
   "cell_type": "code",
   "execution_count": null,
   "metadata": {},
   "outputs": [],
   "source": [
    "dff = make_table_count(df, 'from_station_id')\n",
    "dff.head()"
   ]
  },
  {
   "cell_type": "code",
   "execution_count": null,
   "metadata": {},
   "outputs": [],
   "source": []
  }
 ],
 "metadata": {
  "anaconda-cloud": {},
  "kernelspec": {
   "display_name": "Python 3",
   "language": "python",
   "name": "python3"
  },
  "language_info": {
   "codemirror_mode": {
    "name": "ipython",
    "version": 3
   },
   "file_extension": ".py",
   "mimetype": "text/x-python",
   "name": "python",
   "nbconvert_exporter": "python",
   "pygments_lexer": "ipython3",
   "version": "3.6.8"
  }
 },
 "nbformat": 4,
 "nbformat_minor": 1
}
